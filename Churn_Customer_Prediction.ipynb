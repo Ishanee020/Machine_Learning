{
 "cells": [
  {
   "cell_type": "markdown",
   "id": "e0ffaeeb",
   "metadata": {},
   "source": [
    "## PROBLEM STATEMENT"
   ]
  },
  {
   "cell_type": "markdown",
   "id": "e1bc58de",
   "metadata": {},
   "source": [
    "A challenge in the banking industry is to retain their customers. Every bank wants to hold their customers for sustaining their business so does our client - The ABC Multinational bank. Predicting the churn (of customer) in a  multi-national banking sector is a real-life problem that needs to be solved in a more accurate and automated way. There are several factors that results in churning of a customer. Banking sectors apply numerous techniques for analysing and predicting if a customer is going to churn or not."
   ]
  },
  {
   "cell_type": "markdown",
   "id": "7fced632",
   "metadata": {},
   "source": [
    "## DATA DEFINITION"
   ]
  },
  {
   "cell_type": "markdown",
   "id": "cf462dc0",
   "metadata": {},
   "source": [
    "1.\t**customer_id** - The unique identifier for a particular customer.\n",
    "2.\t**credit_score** - A measure of creditworthiness, how reliable a lender the customer is.\n",
    "3.\t**country** - Country of residence for the customer.\n",
    "4.\t**gender** - Gender of customer.\n",
    "5.\t**age** - Age of customer.\n",
    "6.\t**tenure** - Length of time the customer has held an account with the bank.\n",
    "7.\t**balance** - Amount of money present in the customer's account.\n",
    "8.\t**products_number** - The number of distinct products the customer holds with the bank (both a current account, savings, etc.)\n",
    "9.\t**credit_card** - Does the customer possess a credit card with the bank? (1/0)\n",
    "10.\t**active_member** - Is the customer actively using the bank's services?\n",
    "11.\t**estimated_salary** - Estimated total income of the customer.\n",
    "12.\t**churn** - Did the customer churn? (1/0) - **(Target Variable)**"
   ]
  },
  {
   "cell_type": "markdown",
   "id": "7e0a13fe",
   "metadata": {},
   "source": [
    "#### Libraries"
   ]
  },
  {
   "cell_type": "code",
   "execution_count": 17,
   "id": "4891657f",
   "metadata": {},
   "outputs": [],
   "source": [
    "import pandas as pd\n",
    "import numpy as np\n",
    "import matplotlib.pyplot as plt\n",
    "import seaborn as sns\n",
    "from warnings import filterwarnings\n",
    "filterwarnings('ignore')"
   ]
  },
  {
   "cell_type": "markdown",
   "id": "ba9db734",
   "metadata": {},
   "source": [
    "### DATA PREPARATION:"
   ]
  },
  {
   "cell_type": "code",
   "execution_count": 18,
   "id": "90ad1098",
   "metadata": {},
   "outputs": [
    {
     "data": {
      "text/html": [
       "<div>\n",
       "<style scoped>\n",
       "    .dataframe tbody tr th:only-of-type {\n",
       "        vertical-align: middle;\n",
       "    }\n",
       "\n",
       "    .dataframe tbody tr th {\n",
       "        vertical-align: top;\n",
       "    }\n",
       "\n",
       "    .dataframe thead th {\n",
       "        text-align: right;\n",
       "    }\n",
       "</style>\n",
       "<table border=\"1\" class=\"dataframe\">\n",
       "  <thead>\n",
       "    <tr style=\"text-align: right;\">\n",
       "      <th></th>\n",
       "      <th>customer_id</th>\n",
       "      <th>credit_score</th>\n",
       "      <th>country</th>\n",
       "      <th>gender</th>\n",
       "      <th>age</th>\n",
       "      <th>tenure</th>\n",
       "      <th>balance</th>\n",
       "      <th>products_number</th>\n",
       "      <th>credit_card</th>\n",
       "      <th>active_member</th>\n",
       "      <th>estimated_salary</th>\n",
       "      <th>churn</th>\n",
       "    </tr>\n",
       "  </thead>\n",
       "  <tbody>\n",
       "    <tr>\n",
       "      <th>0</th>\n",
       "      <td>15634602</td>\n",
       "      <td>619</td>\n",
       "      <td>France</td>\n",
       "      <td>Female</td>\n",
       "      <td>42</td>\n",
       "      <td>2</td>\n",
       "      <td>0.00</td>\n",
       "      <td>1</td>\n",
       "      <td>Yes</td>\n",
       "      <td>Yes</td>\n",
       "      <td>101348.88</td>\n",
       "      <td>1</td>\n",
       "    </tr>\n",
       "    <tr>\n",
       "      <th>1</th>\n",
       "      <td>15647311</td>\n",
       "      <td>608</td>\n",
       "      <td>Spain</td>\n",
       "      <td>Female</td>\n",
       "      <td>41</td>\n",
       "      <td>1</td>\n",
       "      <td>83807.86</td>\n",
       "      <td>1</td>\n",
       "      <td>No</td>\n",
       "      <td>Yes</td>\n",
       "      <td>112542.58</td>\n",
       "      <td>0</td>\n",
       "    </tr>\n",
       "    <tr>\n",
       "      <th>2</th>\n",
       "      <td>15619304</td>\n",
       "      <td>502</td>\n",
       "      <td>France</td>\n",
       "      <td>Female</td>\n",
       "      <td>42</td>\n",
       "      <td>8</td>\n",
       "      <td>159660.80</td>\n",
       "      <td>3</td>\n",
       "      <td>Yes</td>\n",
       "      <td>No</td>\n",
       "      <td>113931.57</td>\n",
       "      <td>1</td>\n",
       "    </tr>\n",
       "    <tr>\n",
       "      <th>3</th>\n",
       "      <td>15701354</td>\n",
       "      <td>699</td>\n",
       "      <td>France</td>\n",
       "      <td>Female</td>\n",
       "      <td>39</td>\n",
       "      <td>1</td>\n",
       "      <td>0.00</td>\n",
       "      <td>2</td>\n",
       "      <td>No</td>\n",
       "      <td>No</td>\n",
       "      <td>93826.63</td>\n",
       "      <td>0</td>\n",
       "    </tr>\n",
       "    <tr>\n",
       "      <th>4</th>\n",
       "      <td>15737888</td>\n",
       "      <td>850</td>\n",
       "      <td>Spain</td>\n",
       "      <td>Female</td>\n",
       "      <td>43</td>\n",
       "      <td>2</td>\n",
       "      <td>125510.82</td>\n",
       "      <td>1</td>\n",
       "      <td>Yes</td>\n",
       "      <td>Yes</td>\n",
       "      <td>79084.10</td>\n",
       "      <td>0</td>\n",
       "    </tr>\n",
       "  </tbody>\n",
       "</table>\n",
       "</div>"
      ],
      "text/plain": [
       "   customer_id  credit_score country  gender  age  tenure    balance  \\\n",
       "0     15634602           619  France  Female   42       2       0.00   \n",
       "1     15647311           608   Spain  Female   41       1   83807.86   \n",
       "2     15619304           502  France  Female   42       8  159660.80   \n",
       "3     15701354           699  France  Female   39       1       0.00   \n",
       "4     15737888           850   Spain  Female   43       2  125510.82   \n",
       "\n",
       "   products_number credit_card active_member  estimated_salary  churn  \n",
       "0                1         Yes           Yes         101348.88      1  \n",
       "1                1          No           Yes         112542.58      0  \n",
       "2                3         Yes            No         113931.57      1  \n",
       "3                2          No            No          93826.63      0  \n",
       "4                1         Yes           Yes          79084.10      0  "
      ]
     },
     "execution_count": 18,
     "metadata": {},
     "output_type": "execute_result"
    }
   ],
   "source": [
    "df = pd.read_csv('bank_cus_churn.csv')\n",
    "df.head()"
   ]
  },
  {
   "cell_type": "code",
   "execution_count": 19,
   "id": "27728429",
   "metadata": {},
   "outputs": [
    {
     "data": {
      "text/plain": [
       "(10000, 12)"
      ]
     },
     "execution_count": 19,
     "metadata": {},
     "output_type": "execute_result"
    }
   ],
   "source": [
    "df.shape"
   ]
  },
  {
   "cell_type": "markdown",
   "id": "7b7c10b5",
   "metadata": {},
   "source": [
    "Summary of all variables in the dataset:"
   ]
  },
  {
   "cell_type": "code",
   "execution_count": 20,
   "id": "d4ac113e",
   "metadata": {},
   "outputs": [
    {
     "name": "stdout",
     "output_type": "stream",
     "text": [
      "<class 'pandas.core.frame.DataFrame'>\n",
      "RangeIndex: 10000 entries, 0 to 9999\n",
      "Data columns (total 12 columns):\n",
      " #   Column            Non-Null Count  Dtype  \n",
      "---  ------            --------------  -----  \n",
      " 0   customer_id       10000 non-null  int64  \n",
      " 1   credit_score      10000 non-null  int64  \n",
      " 2   country           10000 non-null  object \n",
      " 3   gender            10000 non-null  object \n",
      " 4   age               10000 non-null  int64  \n",
      " 5   tenure            10000 non-null  int64  \n",
      " 6   balance           10000 non-null  float64\n",
      " 7   products_number   10000 non-null  int64  \n",
      " 8   credit_card       10000 non-null  object \n",
      " 9   active_member     10000 non-null  object \n",
      " 10  estimated_salary  10000 non-null  float64\n",
      " 11  churn             10000 non-null  int64  \n",
      "dtypes: float64(2), int64(6), object(4)\n",
      "memory usage: 937.6+ KB\n"
     ]
    }
   ],
   "source": [
    "df.info()"
   ]
  },
  {
   "cell_type": "markdown",
   "id": "5c8dc1af",
   "metadata": {},
   "source": [
    "Interpretation:\n",
    "    \n",
    "    The data set has 12 variables out of which 7 are numerical, and 5 are categorical. "
   ]
  },
  {
   "cell_type": "code",
   "execution_count": 21,
   "id": "ac381fca",
   "metadata": {},
   "outputs": [
    {
     "data": {
      "text/plain": [
       "customer_id         0\n",
       "credit_score        0\n",
       "country             0\n",
       "gender              0\n",
       "age                 0\n",
       "tenure              0\n",
       "balance             0\n",
       "products_number     0\n",
       "credit_card         0\n",
       "active_member       0\n",
       "estimated_salary    0\n",
       "churn               0\n",
       "dtype: int64"
      ]
     },
     "execution_count": 21,
     "metadata": {},
     "output_type": "execute_result"
    }
   ],
   "source": [
    "# Checking missing values \n",
    "\n",
    "df.isnull().sum()"
   ]
  },
  {
   "cell_type": "code",
   "execution_count": 22,
   "id": "1d2f7530",
   "metadata": {},
   "outputs": [
    {
     "data": {
      "text/plain": [
       "0"
      ]
     },
     "execution_count": 22,
     "metadata": {},
     "output_type": "execute_result"
    }
   ],
   "source": [
    "# checking duplicate values:\n",
    "\n",
    "df.duplicated().sum()"
   ]
  },
  {
   "cell_type": "code",
   "execution_count": 23,
   "id": "a6be7cf2",
   "metadata": {},
   "outputs": [
    {
     "data": {
      "text/plain": [
       "country\n",
       "France     5014\n",
       "Germany    2509\n",
       "Spain      2477\n",
       "Name: customer_id, dtype: int64"
      ]
     },
     "execution_count": 23,
     "metadata": {},
     "output_type": "execute_result"
    }
   ],
   "source": [
    "# What countries are our customers from, and what's the exposure in that country?\n",
    "\n",
    "df.groupby('country')['customer_id'].count()"
   ]
  },
  {
   "cell_type": "code",
   "execution_count": 24,
   "id": "6156c811",
   "metadata": {},
   "outputs": [
    {
     "data": {
      "text/html": [
       "<div>\n",
       "<style scoped>\n",
       "    .dataframe tbody tr th:only-of-type {\n",
       "        vertical-align: middle;\n",
       "    }\n",
       "\n",
       "    .dataframe tbody tr th {\n",
       "        vertical-align: top;\n",
       "    }\n",
       "\n",
       "    .dataframe thead th {\n",
       "        text-align: right;\n",
       "    }\n",
       "</style>\n",
       "<table border=\"1\" class=\"dataframe\">\n",
       "  <thead>\n",
       "    <tr style=\"text-align: right;\">\n",
       "      <th></th>\n",
       "      <th>credit_score</th>\n",
       "      <th>country</th>\n",
       "      <th>gender</th>\n",
       "      <th>age</th>\n",
       "      <th>tenure</th>\n",
       "      <th>balance</th>\n",
       "      <th>products_number</th>\n",
       "      <th>credit_card</th>\n",
       "      <th>active_member</th>\n",
       "      <th>estimated_salary</th>\n",
       "      <th>churn</th>\n",
       "    </tr>\n",
       "  </thead>\n",
       "  <tbody>\n",
       "    <tr>\n",
       "      <th>0</th>\n",
       "      <td>619</td>\n",
       "      <td>France</td>\n",
       "      <td>Female</td>\n",
       "      <td>42</td>\n",
       "      <td>2</td>\n",
       "      <td>0.00</td>\n",
       "      <td>1</td>\n",
       "      <td>Yes</td>\n",
       "      <td>Yes</td>\n",
       "      <td>101348.88</td>\n",
       "      <td>1</td>\n",
       "    </tr>\n",
       "    <tr>\n",
       "      <th>1</th>\n",
       "      <td>608</td>\n",
       "      <td>Spain</td>\n",
       "      <td>Female</td>\n",
       "      <td>41</td>\n",
       "      <td>1</td>\n",
       "      <td>83807.86</td>\n",
       "      <td>1</td>\n",
       "      <td>No</td>\n",
       "      <td>Yes</td>\n",
       "      <td>112542.58</td>\n",
       "      <td>0</td>\n",
       "    </tr>\n",
       "    <tr>\n",
       "      <th>2</th>\n",
       "      <td>502</td>\n",
       "      <td>France</td>\n",
       "      <td>Female</td>\n",
       "      <td>42</td>\n",
       "      <td>8</td>\n",
       "      <td>159660.80</td>\n",
       "      <td>3</td>\n",
       "      <td>Yes</td>\n",
       "      <td>No</td>\n",
       "      <td>113931.57</td>\n",
       "      <td>1</td>\n",
       "    </tr>\n",
       "    <tr>\n",
       "      <th>3</th>\n",
       "      <td>699</td>\n",
       "      <td>France</td>\n",
       "      <td>Female</td>\n",
       "      <td>39</td>\n",
       "      <td>1</td>\n",
       "      <td>0.00</td>\n",
       "      <td>2</td>\n",
       "      <td>No</td>\n",
       "      <td>No</td>\n",
       "      <td>93826.63</td>\n",
       "      <td>0</td>\n",
       "    </tr>\n",
       "    <tr>\n",
       "      <th>4</th>\n",
       "      <td>850</td>\n",
       "      <td>Spain</td>\n",
       "      <td>Female</td>\n",
       "      <td>43</td>\n",
       "      <td>2</td>\n",
       "      <td>125510.82</td>\n",
       "      <td>1</td>\n",
       "      <td>Yes</td>\n",
       "      <td>Yes</td>\n",
       "      <td>79084.10</td>\n",
       "      <td>0</td>\n",
       "    </tr>\n",
       "    <tr>\n",
       "      <th>...</th>\n",
       "      <td>...</td>\n",
       "      <td>...</td>\n",
       "      <td>...</td>\n",
       "      <td>...</td>\n",
       "      <td>...</td>\n",
       "      <td>...</td>\n",
       "      <td>...</td>\n",
       "      <td>...</td>\n",
       "      <td>...</td>\n",
       "      <td>...</td>\n",
       "      <td>...</td>\n",
       "    </tr>\n",
       "    <tr>\n",
       "      <th>9995</th>\n",
       "      <td>771</td>\n",
       "      <td>France</td>\n",
       "      <td>Male</td>\n",
       "      <td>39</td>\n",
       "      <td>5</td>\n",
       "      <td>0.00</td>\n",
       "      <td>2</td>\n",
       "      <td>Yes</td>\n",
       "      <td>No</td>\n",
       "      <td>96270.64</td>\n",
       "      <td>0</td>\n",
       "    </tr>\n",
       "    <tr>\n",
       "      <th>9996</th>\n",
       "      <td>516</td>\n",
       "      <td>France</td>\n",
       "      <td>Male</td>\n",
       "      <td>35</td>\n",
       "      <td>10</td>\n",
       "      <td>57369.61</td>\n",
       "      <td>1</td>\n",
       "      <td>Yes</td>\n",
       "      <td>Yes</td>\n",
       "      <td>101699.77</td>\n",
       "      <td>0</td>\n",
       "    </tr>\n",
       "    <tr>\n",
       "      <th>9997</th>\n",
       "      <td>709</td>\n",
       "      <td>France</td>\n",
       "      <td>Female</td>\n",
       "      <td>36</td>\n",
       "      <td>7</td>\n",
       "      <td>0.00</td>\n",
       "      <td>1</td>\n",
       "      <td>No</td>\n",
       "      <td>Yes</td>\n",
       "      <td>42085.58</td>\n",
       "      <td>1</td>\n",
       "    </tr>\n",
       "    <tr>\n",
       "      <th>9998</th>\n",
       "      <td>772</td>\n",
       "      <td>Germany</td>\n",
       "      <td>Male</td>\n",
       "      <td>42</td>\n",
       "      <td>3</td>\n",
       "      <td>75075.31</td>\n",
       "      <td>2</td>\n",
       "      <td>Yes</td>\n",
       "      <td>No</td>\n",
       "      <td>92888.52</td>\n",
       "      <td>1</td>\n",
       "    </tr>\n",
       "    <tr>\n",
       "      <th>9999</th>\n",
       "      <td>792</td>\n",
       "      <td>France</td>\n",
       "      <td>Female</td>\n",
       "      <td>28</td>\n",
       "      <td>4</td>\n",
       "      <td>130142.79</td>\n",
       "      <td>1</td>\n",
       "      <td>Yes</td>\n",
       "      <td>No</td>\n",
       "      <td>38190.78</td>\n",
       "      <td>0</td>\n",
       "    </tr>\n",
       "  </tbody>\n",
       "</table>\n",
       "<p>10000 rows × 11 columns</p>\n",
       "</div>"
      ],
      "text/plain": [
       "      credit_score  country  gender  age  tenure    balance  products_number  \\\n",
       "0              619   France  Female   42       2       0.00                1   \n",
       "1              608    Spain  Female   41       1   83807.86                1   \n",
       "2              502   France  Female   42       8  159660.80                3   \n",
       "3              699   France  Female   39       1       0.00                2   \n",
       "4              850    Spain  Female   43       2  125510.82                1   \n",
       "...            ...      ...     ...  ...     ...        ...              ...   \n",
       "9995           771   France    Male   39       5       0.00                2   \n",
       "9996           516   France    Male   35      10   57369.61                1   \n",
       "9997           709   France  Female   36       7       0.00                1   \n",
       "9998           772  Germany    Male   42       3   75075.31                2   \n",
       "9999           792   France  Female   28       4  130142.79                1   \n",
       "\n",
       "     credit_card active_member  estimated_salary  churn  \n",
       "0            Yes           Yes         101348.88      1  \n",
       "1             No           Yes         112542.58      0  \n",
       "2            Yes            No         113931.57      1  \n",
       "3             No            No          93826.63      0  \n",
       "4            Yes           Yes          79084.10      0  \n",
       "...          ...           ...               ...    ...  \n",
       "9995         Yes            No          96270.64      0  \n",
       "9996         Yes           Yes         101699.77      0  \n",
       "9997          No           Yes          42085.58      1  \n",
       "9998         Yes            No          92888.52      1  \n",
       "9999         Yes            No          38190.78      0  \n",
       "\n",
       "[10000 rows x 11 columns]"
      ]
     },
     "execution_count": 24,
     "metadata": {},
     "output_type": "execute_result"
    }
   ],
   "source": [
    "# dropping customer_id\n",
    "\n",
    "df.drop('customer_id',axis = 1, inplace = True)\n",
    "df"
   ]
  },
  {
   "cell_type": "markdown",
   "id": "185a894e",
   "metadata": {},
   "source": [
    "#### Statistical summary of numeric variable:"
   ]
  },
  {
   "cell_type": "code",
   "execution_count": 25,
   "id": "f93be09e",
   "metadata": {
    "scrolled": true
   },
   "outputs": [
    {
     "data": {
      "text/html": [
       "<div>\n",
       "<style scoped>\n",
       "    .dataframe tbody tr th:only-of-type {\n",
       "        vertical-align: middle;\n",
       "    }\n",
       "\n",
       "    .dataframe tbody tr th {\n",
       "        vertical-align: top;\n",
       "    }\n",
       "\n",
       "    .dataframe thead th {\n",
       "        text-align: right;\n",
       "    }\n",
       "</style>\n",
       "<table border=\"1\" class=\"dataframe\">\n",
       "  <thead>\n",
       "    <tr style=\"text-align: right;\">\n",
       "      <th></th>\n",
       "      <th>credit_score</th>\n",
       "      <th>age</th>\n",
       "      <th>tenure</th>\n",
       "      <th>balance</th>\n",
       "      <th>products_number</th>\n",
       "      <th>estimated_salary</th>\n",
       "      <th>churn</th>\n",
       "    </tr>\n",
       "  </thead>\n",
       "  <tbody>\n",
       "    <tr>\n",
       "      <th>count</th>\n",
       "      <td>10000.000000</td>\n",
       "      <td>10000.000000</td>\n",
       "      <td>10000.000000</td>\n",
       "      <td>10000.000000</td>\n",
       "      <td>10000.000000</td>\n",
       "      <td>10000.000000</td>\n",
       "      <td>10000.000000</td>\n",
       "    </tr>\n",
       "    <tr>\n",
       "      <th>mean</th>\n",
       "      <td>650.528800</td>\n",
       "      <td>38.921800</td>\n",
       "      <td>5.012800</td>\n",
       "      <td>76485.889288</td>\n",
       "      <td>1.530200</td>\n",
       "      <td>100090.239881</td>\n",
       "      <td>0.203700</td>\n",
       "    </tr>\n",
       "    <tr>\n",
       "      <th>std</th>\n",
       "      <td>96.653299</td>\n",
       "      <td>10.487806</td>\n",
       "      <td>2.892174</td>\n",
       "      <td>62397.405202</td>\n",
       "      <td>0.581654</td>\n",
       "      <td>57510.492818</td>\n",
       "      <td>0.402769</td>\n",
       "    </tr>\n",
       "    <tr>\n",
       "      <th>min</th>\n",
       "      <td>350.000000</td>\n",
       "      <td>18.000000</td>\n",
       "      <td>0.000000</td>\n",
       "      <td>0.000000</td>\n",
       "      <td>1.000000</td>\n",
       "      <td>11.580000</td>\n",
       "      <td>0.000000</td>\n",
       "    </tr>\n",
       "    <tr>\n",
       "      <th>25%</th>\n",
       "      <td>584.000000</td>\n",
       "      <td>32.000000</td>\n",
       "      <td>3.000000</td>\n",
       "      <td>0.000000</td>\n",
       "      <td>1.000000</td>\n",
       "      <td>51002.110000</td>\n",
       "      <td>0.000000</td>\n",
       "    </tr>\n",
       "    <tr>\n",
       "      <th>50%</th>\n",
       "      <td>652.000000</td>\n",
       "      <td>37.000000</td>\n",
       "      <td>5.000000</td>\n",
       "      <td>97198.540000</td>\n",
       "      <td>1.000000</td>\n",
       "      <td>100193.915000</td>\n",
       "      <td>0.000000</td>\n",
       "    </tr>\n",
       "    <tr>\n",
       "      <th>75%</th>\n",
       "      <td>718.000000</td>\n",
       "      <td>44.000000</td>\n",
       "      <td>7.000000</td>\n",
       "      <td>127644.240000</td>\n",
       "      <td>2.000000</td>\n",
       "      <td>149388.247500</td>\n",
       "      <td>0.000000</td>\n",
       "    </tr>\n",
       "    <tr>\n",
       "      <th>max</th>\n",
       "      <td>850.000000</td>\n",
       "      <td>92.000000</td>\n",
       "      <td>10.000000</td>\n",
       "      <td>250898.090000</td>\n",
       "      <td>4.000000</td>\n",
       "      <td>199992.480000</td>\n",
       "      <td>1.000000</td>\n",
       "    </tr>\n",
       "  </tbody>\n",
       "</table>\n",
       "</div>"
      ],
      "text/plain": [
       "       credit_score           age        tenure        balance  \\\n",
       "count  10000.000000  10000.000000  10000.000000   10000.000000   \n",
       "mean     650.528800     38.921800      5.012800   76485.889288   \n",
       "std       96.653299     10.487806      2.892174   62397.405202   \n",
       "min      350.000000     18.000000      0.000000       0.000000   \n",
       "25%      584.000000     32.000000      3.000000       0.000000   \n",
       "50%      652.000000     37.000000      5.000000   97198.540000   \n",
       "75%      718.000000     44.000000      7.000000  127644.240000   \n",
       "max      850.000000     92.000000     10.000000  250898.090000   \n",
       "\n",
       "       products_number  estimated_salary         churn  \n",
       "count     10000.000000      10000.000000  10000.000000  \n",
       "mean          1.530200     100090.239881      0.203700  \n",
       "std           0.581654      57510.492818      0.402769  \n",
       "min           1.000000         11.580000      0.000000  \n",
       "25%           1.000000      51002.110000      0.000000  \n",
       "50%           1.000000     100193.915000      0.000000  \n",
       "75%           2.000000     149388.247500      0.000000  \n",
       "max           4.000000     199992.480000      1.000000  "
      ]
     },
     "execution_count": 25,
     "metadata": {},
     "output_type": "execute_result"
    }
   ],
   "source": [
    "df.describe()"
   ]
  },
  {
   "cell_type": "code",
   "execution_count": 26,
   "id": "689f1d0c",
   "metadata": {
    "scrolled": true
   },
   "outputs": [
    {
     "data": {
      "text/plain": [
       "credit_score           650.528800\n",
       "age                     38.921800\n",
       "tenure                   5.012800\n",
       "balance              76485.889288\n",
       "products_number          1.530200\n",
       "estimated_salary    100090.239881\n",
       "churn                    0.203700\n",
       "dtype: float64"
      ]
     },
     "execution_count": 26,
     "metadata": {},
     "output_type": "execute_result"
    }
   ],
   "source": [
    "df.mean()"
   ]
  },
  {
   "cell_type": "code",
   "execution_count": 27,
   "id": "14d120a7",
   "metadata": {},
   "outputs": [
    {
     "data": {
      "text/plain": [
       "credit_score           652.000\n",
       "age                     37.000\n",
       "tenure                   5.000\n",
       "balance              97198.540\n",
       "products_number          1.000\n",
       "estimated_salary    100193.915\n",
       "churn                    0.000\n",
       "dtype: float64"
      ]
     },
     "execution_count": 27,
     "metadata": {},
     "output_type": "execute_result"
    }
   ],
   "source": [
    "df.median()"
   ]
  },
  {
   "cell_type": "markdown",
   "id": "e2e8d5e2",
   "metadata": {},
   "source": [
    "#### Statistical summary of categorical variable:"
   ]
  },
  {
   "cell_type": "code",
   "execution_count": 28,
   "id": "6e3f9241",
   "metadata": {
    "scrolled": false
   },
   "outputs": [
    {
     "data": {
      "text/html": [
       "<div>\n",
       "<style scoped>\n",
       "    .dataframe tbody tr th:only-of-type {\n",
       "        vertical-align: middle;\n",
       "    }\n",
       "\n",
       "    .dataframe tbody tr th {\n",
       "        vertical-align: top;\n",
       "    }\n",
       "\n",
       "    .dataframe thead th {\n",
       "        text-align: right;\n",
       "    }\n",
       "</style>\n",
       "<table border=\"1\" class=\"dataframe\">\n",
       "  <thead>\n",
       "    <tr style=\"text-align: right;\">\n",
       "      <th></th>\n",
       "      <th>count</th>\n",
       "      <th>unique</th>\n",
       "      <th>top</th>\n",
       "      <th>freq</th>\n",
       "    </tr>\n",
       "  </thead>\n",
       "  <tbody>\n",
       "    <tr>\n",
       "      <th>country</th>\n",
       "      <td>10000</td>\n",
       "      <td>3</td>\n",
       "      <td>France</td>\n",
       "      <td>5014</td>\n",
       "    </tr>\n",
       "    <tr>\n",
       "      <th>gender</th>\n",
       "      <td>10000</td>\n",
       "      <td>2</td>\n",
       "      <td>Male</td>\n",
       "      <td>5457</td>\n",
       "    </tr>\n",
       "    <tr>\n",
       "      <th>credit_card</th>\n",
       "      <td>10000</td>\n",
       "      <td>2</td>\n",
       "      <td>Yes</td>\n",
       "      <td>7055</td>\n",
       "    </tr>\n",
       "    <tr>\n",
       "      <th>active_member</th>\n",
       "      <td>10000</td>\n",
       "      <td>2</td>\n",
       "      <td>Yes</td>\n",
       "      <td>5151</td>\n",
       "    </tr>\n",
       "  </tbody>\n",
       "</table>\n",
       "</div>"
      ],
      "text/plain": [
       "               count unique     top  freq\n",
       "country        10000      3  France  5014\n",
       "gender         10000      2    Male  5457\n",
       "credit_card    10000      2     Yes  7055\n",
       "active_member  10000      2     Yes  5151"
      ]
     },
     "execution_count": 28,
     "metadata": {},
     "output_type": "execute_result"
    }
   ],
   "source": [
    "df.describe (include = 'object').T"
   ]
  },
  {
   "cell_type": "code",
   "execution_count": 29,
   "id": "1f25f0df",
   "metadata": {},
   "outputs": [
    {
     "data": {
      "text/html": [
       "<div>\n",
       "<style scoped>\n",
       "    .dataframe tbody tr th:only-of-type {\n",
       "        vertical-align: middle;\n",
       "    }\n",
       "\n",
       "    .dataframe tbody tr th {\n",
       "        vertical-align: top;\n",
       "    }\n",
       "\n",
       "    .dataframe thead th {\n",
       "        text-align: right;\n",
       "    }\n",
       "</style>\n",
       "<table border=\"1\" class=\"dataframe\">\n",
       "  <thead>\n",
       "    <tr style=\"text-align: right;\">\n",
       "      <th></th>\n",
       "      <th>credit_score</th>\n",
       "      <th>country</th>\n",
       "      <th>gender</th>\n",
       "      <th>age</th>\n",
       "      <th>tenure</th>\n",
       "      <th>balance</th>\n",
       "      <th>products_number</th>\n",
       "      <th>credit_card</th>\n",
       "      <th>active_member</th>\n",
       "      <th>estimated_salary</th>\n",
       "      <th>churn</th>\n",
       "    </tr>\n",
       "  </thead>\n",
       "  <tbody>\n",
       "    <tr>\n",
       "      <th>0</th>\n",
       "      <td>850</td>\n",
       "      <td>France</td>\n",
       "      <td>Male</td>\n",
       "      <td>37</td>\n",
       "      <td>2</td>\n",
       "      <td>0.0</td>\n",
       "      <td>1</td>\n",
       "      <td>Yes</td>\n",
       "      <td>Yes</td>\n",
       "      <td>24924.92</td>\n",
       "      <td>0</td>\n",
       "    </tr>\n",
       "  </tbody>\n",
       "</table>\n",
       "</div>"
      ],
      "text/plain": [
       "   credit_score country gender  age  tenure  balance  products_number  \\\n",
       "0           850  France   Male   37       2      0.0                1   \n",
       "\n",
       "  credit_card active_member  estimated_salary  churn  \n",
       "0         Yes           Yes          24924.92      0  "
      ]
     },
     "execution_count": 29,
     "metadata": {},
     "output_type": "execute_result"
    }
   ],
   "source": [
    "df.mode()"
   ]
  },
  {
   "cell_type": "markdown",
   "id": "9c66b6c6",
   "metadata": {},
   "source": [
    "##### Distribution of Variables in the data:"
   ]
  },
  {
   "cell_type": "code",
   "execution_count": 30,
   "id": "24ffe903",
   "metadata": {
    "scrolled": false
   },
   "outputs": [
    {
     "data": {
      "text/plain": [
       "<function matplotlib.pyplot.show(close=None, block=None)>"
      ]
     },
     "execution_count": 30,
     "metadata": {},
     "output_type": "execute_result"
    },
    {
     "data": {
      "image/png": "[encoded data removed]",
      "text/plain": [
       "<Figure size 640x480 with 9 Axes>"
      ]
     },
     "metadata": {},
     "output_type": "display_data"
    }
   ],
   "source": [
    "df.hist()\n",
    "plt.tight_layout()\n",
    "plt.show"
   ]
  },
  {
   "cell_type": "markdown",
   "id": "99a4206a",
   "metadata": {},
   "source": [
    "Interpretation:\n",
    "    \n",
    "    We can see that, there is large exposure at low balance, high tenure and low estimated salary."
   ]
  },
  {
   "cell_type": "markdown",
   "id": "25405300",
   "metadata": {},
   "source": [
    "#### Outliers"
   ]
  },
  {
   "cell_type": "code",
   "execution_count": 31,
   "id": "03077349",
   "metadata": {},
   "outputs": [],
   "source": [
    "#q1, q3 quantiles\n",
    "q1 = df.quantile(0.25)\n",
    "q3 = df.quantile(0.75)\n",
    "\n",
    "#Inter Quantile Range\n",
    "IQR = q3-q1\n",
    "\n",
    "#upperlimit\n",
    "ul = q3+(IQR*1.5)\n",
    "#lower limit\n",
    "ll = q1-(IQR*1.5)"
   ]
  },
  {
   "cell_type": "code",
   "execution_count": 32,
   "id": "9925611e",
   "metadata": {},
   "outputs": [
    {
     "name": "stdout",
     "output_type": "stream",
     "text": [
      "credit_score           0\n",
      "country                0\n",
      "gender                 0\n",
      "age                  359\n",
      "tenure                 0\n",
      "balance                0\n",
      "products_number       60\n",
      "credit_card            0\n",
      "active_member          0\n",
      "estimated_salary       0\n",
      "churn               2037\n",
      "dtype: int64\n",
      "credit_score        15\n",
      "country              0\n",
      "gender               0\n",
      "age                  0\n",
      "tenure               0\n",
      "balance              0\n",
      "products_number      0\n",
      "credit_card          0\n",
      "active_member        0\n",
      "estimated_salary     0\n",
      "churn                0\n",
      "dtype: int64\n"
     ]
    }
   ],
   "source": [
    "#count of outliers\n",
    "\n",
    "print(df[df>ul].count())\n",
    "print(df[df<ll].count())"
   ]
  },
  {
   "cell_type": "markdown",
   "id": "1d753465",
   "metadata": {},
   "source": [
    "   There are no major outliers in the data."
   ]
  },
  {
   "cell_type": "markdown",
   "id": "9840e04d",
   "metadata": {},
   "source": [
    "### Univariate Analysis:"
   ]
  },
  {
   "cell_type": "markdown",
   "id": "c844ae30",
   "metadata": {},
   "source": [
    "#### Analysing Numerical Variables"
   ]
  },
  {
   "cell_type": "code",
   "execution_count": 33,
   "id": "460f7b3d",
   "metadata": {},
   "outputs": [
    {
     "data": {
      "text/html": [
       "<div>\n",
       "<style scoped>\n",
       "    .dataframe tbody tr th:only-of-type {\n",
       "        vertical-align: middle;\n",
       "    }\n",
       "\n",
       "    .dataframe tbody tr th {\n",
       "        vertical-align: top;\n",
       "    }\n",
       "\n",
       "    .dataframe thead th {\n",
       "        text-align: right;\n",
       "    }\n",
       "</style>\n",
       "<table border=\"1\" class=\"dataframe\">\n",
       "  <thead>\n",
       "    <tr style=\"text-align: right;\">\n",
       "      <th></th>\n",
       "      <th>credit_score</th>\n",
       "      <th>age</th>\n",
       "      <th>tenure</th>\n",
       "      <th>balance</th>\n",
       "      <th>products_number</th>\n",
       "      <th>estimated_salary</th>\n",
       "      <th>churn</th>\n",
       "    </tr>\n",
       "  </thead>\n",
       "  <tbody>\n",
       "    <tr>\n",
       "      <th>0</th>\n",
       "      <td>619</td>\n",
       "      <td>42</td>\n",
       "      <td>2</td>\n",
       "      <td>0.00</td>\n",
       "      <td>1</td>\n",
       "      <td>101348.88</td>\n",
       "      <td>1</td>\n",
       "    </tr>\n",
       "    <tr>\n",
       "      <th>1</th>\n",
       "      <td>608</td>\n",
       "      <td>41</td>\n",
       "      <td>1</td>\n",
       "      <td>83807.86</td>\n",
       "      <td>1</td>\n",
       "      <td>112542.58</td>\n",
       "      <td>0</td>\n",
       "    </tr>\n",
       "    <tr>\n",
       "      <th>2</th>\n",
       "      <td>502</td>\n",
       "      <td>42</td>\n",
       "      <td>8</td>\n",
       "      <td>159660.80</td>\n",
       "      <td>3</td>\n",
       "      <td>113931.57</td>\n",
       "      <td>1</td>\n",
       "    </tr>\n",
       "    <tr>\n",
       "      <th>3</th>\n",
       "      <td>699</td>\n",
       "      <td>39</td>\n",
       "      <td>1</td>\n",
       "      <td>0.00</td>\n",
       "      <td>2</td>\n",
       "      <td>93826.63</td>\n",
       "      <td>0</td>\n",
       "    </tr>\n",
       "    <tr>\n",
       "      <th>4</th>\n",
       "      <td>850</td>\n",
       "      <td>43</td>\n",
       "      <td>2</td>\n",
       "      <td>125510.82</td>\n",
       "      <td>1</td>\n",
       "      <td>79084.10</td>\n",
       "      <td>0</td>\n",
       "    </tr>\n",
       "    <tr>\n",
       "      <th>...</th>\n",
       "      <td>...</td>\n",
       "      <td>...</td>\n",
       "      <td>...</td>\n",
       "      <td>...</td>\n",
       "      <td>...</td>\n",
       "      <td>...</td>\n",
       "      <td>...</td>\n",
       "    </tr>\n",
       "    <tr>\n",
       "      <th>9995</th>\n",
       "      <td>771</td>\n",
       "      <td>39</td>\n",
       "      <td>5</td>\n",
       "      <td>0.00</td>\n",
       "      <td>2</td>\n",
       "      <td>96270.64</td>\n",
       "      <td>0</td>\n",
       "    </tr>\n",
       "    <tr>\n",
       "      <th>9996</th>\n",
       "      <td>516</td>\n",
       "      <td>35</td>\n",
       "      <td>10</td>\n",
       "      <td>57369.61</td>\n",
       "      <td>1</td>\n",
       "      <td>101699.77</td>\n",
       "      <td>0</td>\n",
       "    </tr>\n",
       "    <tr>\n",
       "      <th>9997</th>\n",
       "      <td>709</td>\n",
       "      <td>36</td>\n",
       "      <td>7</td>\n",
       "      <td>0.00</td>\n",
       "      <td>1</td>\n",
       "      <td>42085.58</td>\n",
       "      <td>1</td>\n",
       "    </tr>\n",
       "    <tr>\n",
       "      <th>9998</th>\n",
       "      <td>772</td>\n",
       "      <td>42</td>\n",
       "      <td>3</td>\n",
       "      <td>75075.31</td>\n",
       "      <td>2</td>\n",
       "      <td>92888.52</td>\n",
       "      <td>1</td>\n",
       "    </tr>\n",
       "    <tr>\n",
       "      <th>9999</th>\n",
       "      <td>792</td>\n",
       "      <td>28</td>\n",
       "      <td>4</td>\n",
       "      <td>130142.79</td>\n",
       "      <td>1</td>\n",
       "      <td>38190.78</td>\n",
       "      <td>0</td>\n",
       "    </tr>\n",
       "  </tbody>\n",
       "</table>\n",
       "<p>10000 rows × 7 columns</p>\n",
       "</div>"
      ],
      "text/plain": [
       "      credit_score  age  tenure    balance  products_number  estimated_salary  \\\n",
       "0              619   42       2       0.00                1         101348.88   \n",
       "1              608   41       1   83807.86                1         112542.58   \n",
       "2              502   42       8  159660.80                3         113931.57   \n",
       "3              699   39       1       0.00                2          93826.63   \n",
       "4              850   43       2  125510.82                1          79084.10   \n",
       "...            ...  ...     ...        ...              ...               ...   \n",
       "9995           771   39       5       0.00                2          96270.64   \n",
       "9996           516   35      10   57369.61                1         101699.77   \n",
       "9997           709   36       7       0.00                1          42085.58   \n",
       "9998           772   42       3   75075.31                2          92888.52   \n",
       "9999           792   28       4  130142.79                1          38190.78   \n",
       "\n",
       "      churn  \n",
       "0         1  \n",
       "1         0  \n",
       "2         1  \n",
       "3         0  \n",
       "4         0  \n",
       "...     ...  \n",
       "9995      0  \n",
       "9996      0  \n",
       "9997      1  \n",
       "9998      1  \n",
       "9999      0  \n",
       "\n",
       "[10000 rows x 7 columns]"
      ]
     },
     "execution_count": 33,
     "metadata": {},
     "output_type": "execute_result"
    }
   ],
   "source": [
    "df_num = df.select_dtypes(include = 'number')\n",
    "df_num"
   ]
  },
  {
   "cell_type": "code",
   "execution_count": 34,
   "id": "701fccae",
   "metadata": {},
   "outputs": [
    {
     "data": {
      "image/png": "[encoded data removed]",
      "text/plain": [
       "<Figure size 640x480 with 14 Axes>"
      ]
     },
     "metadata": {},
     "output_type": "display_data"
    }
   ],
   "source": [
    "# Distribution of numerical data\n",
    "\n",
    "df.plot(kind = 'density', subplots = True, layout = (7,2), sharex = False)\n",
    "\n",
    "# displat the plot\n",
    "plt.show()"
   ]
  },
  {
   "cell_type": "code",
   "execution_count": 35,
   "id": "415fd279",
   "metadata": {},
   "outputs": [
    {
     "data": {
      "text/plain": [
       "credit_score       -0.071607\n",
       "age                 1.011320\n",
       "tenure              0.010991\n",
       "balance            -0.141109\n",
       "products_number     0.745568\n",
       "estimated_salary    0.002085\n",
       "churn               1.471611\n",
       "dtype: float64"
      ]
     },
     "execution_count": 35,
     "metadata": {},
     "output_type": "execute_result"
    }
   ],
   "source": [
    "df.skew()"
   ]
  },
  {
   "cell_type": "code",
   "execution_count": 36,
   "id": "57c29fd6",
   "metadata": {},
   "outputs": [
    {
     "data": {
      "text/plain": [
       "<AxesSubplot:>"
      ]
     },
     "execution_count": 36,
     "metadata": {},
     "output_type": "execute_result"
    },
    {
     "data": {
      "image/png": "[encoded data removed]",
      "text/plain": [
       "<Figure size 640x480 with 2 Axes>"
      ]
     },
     "metadata": {},
     "output_type": "display_data"
    }
   ],
   "source": [
    "sns.heatmap(df.corr(), annot=True, annot_kws={\"size\": 7.5}, cmap='Blues', square=True)"
   ]
  },
  {
   "cell_type": "markdown",
   "id": "491b0518",
   "metadata": {},
   "source": [
    "Interpretation:\n",
    "    \n",
    "    Through the correlation matrix, we can see that age has the highest correlation with churn, with 0.29. \n",
    "    The variable balance is also of interest, with a 0.12 correlation with churn. \n",
    "    So, older customers and those with higher balances are more likely to churn."
   ]
  },
  {
   "cell_type": "markdown",
   "id": "ec0b9a36",
   "metadata": {},
   "source": [
    "#### Analysing Categorical Variables:"
   ]
  },
  {
   "cell_type": "code",
   "execution_count": 37,
   "id": "5e8ce22c",
   "metadata": {},
   "outputs": [
    {
     "data": {
      "text/html": [
       "<div>\n",
       "<style scoped>\n",
       "    .dataframe tbody tr th:only-of-type {\n",
       "        vertical-align: middle;\n",
       "    }\n",
       "\n",
       "    .dataframe tbody tr th {\n",
       "        vertical-align: top;\n",
       "    }\n",
       "\n",
       "    .dataframe thead th {\n",
       "        text-align: right;\n",
       "    }\n",
       "</style>\n",
       "<table border=\"1\" class=\"dataframe\">\n",
       "  <thead>\n",
       "    <tr style=\"text-align: right;\">\n",
       "      <th></th>\n",
       "      <th>country</th>\n",
       "      <th>gender</th>\n",
       "      <th>credit_card</th>\n",
       "      <th>active_member</th>\n",
       "    </tr>\n",
       "  </thead>\n",
       "  <tbody>\n",
       "    <tr>\n",
       "      <th>0</th>\n",
       "      <td>France</td>\n",
       "      <td>Female</td>\n",
       "      <td>Yes</td>\n",
       "      <td>Yes</td>\n",
       "    </tr>\n",
       "    <tr>\n",
       "      <th>1</th>\n",
       "      <td>Spain</td>\n",
       "      <td>Female</td>\n",
       "      <td>No</td>\n",
       "      <td>Yes</td>\n",
       "    </tr>\n",
       "    <tr>\n",
       "      <th>2</th>\n",
       "      <td>France</td>\n",
       "      <td>Female</td>\n",
       "      <td>Yes</td>\n",
       "      <td>No</td>\n",
       "    </tr>\n",
       "    <tr>\n",
       "      <th>3</th>\n",
       "      <td>France</td>\n",
       "      <td>Female</td>\n",
       "      <td>No</td>\n",
       "      <td>No</td>\n",
       "    </tr>\n",
       "    <tr>\n",
       "      <th>4</th>\n",
       "      <td>Spain</td>\n",
       "      <td>Female</td>\n",
       "      <td>Yes</td>\n",
       "      <td>Yes</td>\n",
       "    </tr>\n",
       "    <tr>\n",
       "      <th>...</th>\n",
       "      <td>...</td>\n",
       "      <td>...</td>\n",
       "      <td>...</td>\n",
       "      <td>...</td>\n",
       "    </tr>\n",
       "    <tr>\n",
       "      <th>9995</th>\n",
       "      <td>France</td>\n",
       "      <td>Male</td>\n",
       "      <td>Yes</td>\n",
       "      <td>No</td>\n",
       "    </tr>\n",
       "    <tr>\n",
       "      <th>9996</th>\n",
       "      <td>France</td>\n",
       "      <td>Male</td>\n",
       "      <td>Yes</td>\n",
       "      <td>Yes</td>\n",
       "    </tr>\n",
       "    <tr>\n",
       "      <th>9997</th>\n",
       "      <td>France</td>\n",
       "      <td>Female</td>\n",
       "      <td>No</td>\n",
       "      <td>Yes</td>\n",
       "    </tr>\n",
       "    <tr>\n",
       "      <th>9998</th>\n",
       "      <td>Germany</td>\n",
       "      <td>Male</td>\n",
       "      <td>Yes</td>\n",
       "      <td>No</td>\n",
       "    </tr>\n",
       "    <tr>\n",
       "      <th>9999</th>\n",
       "      <td>France</td>\n",
       "      <td>Female</td>\n",
       "      <td>Yes</td>\n",
       "      <td>No</td>\n",
       "    </tr>\n",
       "  </tbody>\n",
       "</table>\n",
       "<p>10000 rows × 4 columns</p>\n",
       "</div>"
      ],
      "text/plain": [
       "      country  gender credit_card active_member\n",
       "0      France  Female         Yes           Yes\n",
       "1       Spain  Female          No           Yes\n",
       "2      France  Female         Yes            No\n",
       "3      France  Female          No            No\n",
       "4       Spain  Female         Yes           Yes\n",
       "...       ...     ...         ...           ...\n",
       "9995   France    Male         Yes            No\n",
       "9996   France    Male         Yes           Yes\n",
       "9997   France  Female          No           Yes\n",
       "9998  Germany    Male         Yes            No\n",
       "9999   France  Female         Yes            No\n",
       "\n",
       "[10000 rows x 4 columns]"
      ]
     },
     "execution_count": 37,
     "metadata": {},
     "output_type": "execute_result"
    }
   ],
   "source": [
    "df_cat = df.select_dtypes(include = 'object')\n",
    "df_cat"
   ]
  },
  {
   "cell_type": "code",
   "execution_count": 38,
   "id": "12b5d3a2",
   "metadata": {},
   "outputs": [
    {
     "data": {
      "image/png": "[encoded data removed]",
      "text/plain": [
       "<Figure size 1500x1500 with 4 Axes>"
      ]
     },
     "metadata": {},
     "output_type": "display_data"
    }
   ],
   "source": [
    "# ploting the count distribution for each categorical variable \n",
    "\n",
    "fig, ax = plt.subplots(2, 2, figsize=(15, 15))\n",
    "\n",
    "# plot a count plot for all the categorical variables\n",
    "\n",
    "for variable, subplot in zip(df_cat, ax.flatten()):\n",
    "   \n",
    "    countplot = sns.countplot(y=df[variable], ax=subplot)\n",
    "    countplot.set_ylabel(variable, fontsize = 30)\n",
    "\n",
    "# avoid overlapping of the plots using tight_layout()    \n",
    "plt.tight_layout()   \n",
    "\n",
    "# display the plot\n",
    "plt.show()"
   ]
  },
  {
   "cell_type": "markdown",
   "id": "1234bd8c",
   "metadata": {},
   "source": [
    "### Bivariate Analysis:"
   ]
  },
  {
   "cell_type": "markdown",
   "id": "109cc797",
   "metadata": {},
   "source": [
    "Between Categorical and Target Variable:"
   ]
  },
  {
   "cell_type": "code",
   "execution_count": 39,
   "id": "8f083cf8",
   "metadata": {},
   "outputs": [
    {
     "data": {
      "image/png": "[encoded data removed]",
      "text/plain": [
       "<Figure size 800x400 with 1 Axes>"
      ]
     },
     "metadata": {},
     "output_type": "display_data"
    },
    {
     "data": {
      "image/png": "[encoded data removed]",
      "text/plain": [
       "<Figure size 800x400 with 1 Axes>"
      ]
     },
     "metadata": {},
     "output_type": "display_data"
    },
    {
     "data": {
      "image/png": "[encoded data removed]",
      "text/plain": [
       "<Figure size 800x400 with 1 Axes>"
      ]
     },
     "metadata": {},
     "output_type": "display_data"
    },
    {
     "data": {
      "image/png": "[encoded data removed]",
      "text/plain": [
       "<Figure size 800x400 with 1 Axes>"
      ]
     },
     "metadata": {},
     "output_type": "display_data"
    }
   ],
   "source": [
    "l=['gender','country','active_member','credit_card']\n",
    "\n",
    "plt.rcParams.update({'font.size': 9})\n",
    "for i in range(len(l)):\n",
    "   \n",
    "    gender_counts = df[l[i]].value_counts(normalize=True) * 100\n",
    "    stroke_counts = round(df.groupby(l[i])['churn'].value_counts(normalize=True) * 100,2)\n",
    "    crosstab_data = stroke_counts.unstack()\n",
    "\n",
    "    # Create bar plot\n",
    "    ax = crosstab_data.plot(kind='bar', figsize=(8,4))\n",
    "    ax.set_title(f\"{i+1}. churn by {l[i]}\")\n",
    "    ax.set_ylabel('Percentage')\n",
    "\n",
    "    # Add data labels to the bars\n",
    "    for j in ax.containers:\n",
    "        ax.bar_label(j, labels=[f\"{x:.1f}%\" for x in j.datavalues], label_type='edge')\n",
    "    plt.xticks(rotation=0)\n",
    "    plt.show()"
   ]
  },
  {
   "cell_type": "markdown",
   "id": "50eff94a",
   "metadata": {},
   "source": [
    "### Encoding:"
   ]
  },
  {
   "cell_type": "code",
   "execution_count": 40,
   "id": "1981249d",
   "metadata": {},
   "outputs": [
    {
     "data": {
      "text/plain": [
       "array([[0., 0., 0., 1., 1.],\n",
       "       [0., 1., 0., 0., 1.],\n",
       "       [0., 0., 0., 1., 0.],\n",
       "       ...,\n",
       "       [0., 0., 0., 0., 1.],\n",
       "       [1., 0., 1., 1., 0.],\n",
       "       [0., 0., 0., 1., 0.]])"
      ]
     },
     "execution_count": 40,
     "metadata": {},
     "output_type": "execute_result"
    }
   ],
   "source": [
    "from sklearn.preprocessing import OneHotEncoder\n",
    "\n",
    "ohe = OneHotEncoder (drop = 'first')\n",
    "df_cat_ohe = ohe.fit_transform (df_cat).toarray()\n",
    "df_cat_ohe"
   ]
  },
  {
   "cell_type": "code",
   "execution_count": 41,
   "id": "0c9fa3c1",
   "metadata": {},
   "outputs": [
    {
     "data": {
      "text/plain": [
       "array(['country_Germany', 'country_Spain', 'gender_Male',\n",
       "       'credit_card_Yes', 'active_member_Yes'], dtype=object)"
      ]
     },
     "execution_count": 41,
     "metadata": {},
     "output_type": "execute_result"
    }
   ],
   "source": [
    "feat_name = ohe.get_feature_names_out ()\n",
    "feat_name"
   ]
  },
  {
   "cell_type": "code",
   "execution_count": 42,
   "id": "3d213085",
   "metadata": {},
   "outputs": [
    {
     "data": {
      "text/html": [
       "<div>\n",
       "<style scoped>\n",
       "    .dataframe tbody tr th:only-of-type {\n",
       "        vertical-align: middle;\n",
       "    }\n",
       "\n",
       "    .dataframe tbody tr th {\n",
       "        vertical-align: top;\n",
       "    }\n",
       "\n",
       "    .dataframe thead th {\n",
       "        text-align: right;\n",
       "    }\n",
       "</style>\n",
       "<table border=\"1\" class=\"dataframe\">\n",
       "  <thead>\n",
       "    <tr style=\"text-align: right;\">\n",
       "      <th></th>\n",
       "      <th>country_Germany</th>\n",
       "      <th>country_Spain</th>\n",
       "      <th>gender_Male</th>\n",
       "      <th>credit_card_Yes</th>\n",
       "      <th>active_member_Yes</th>\n",
       "    </tr>\n",
       "  </thead>\n",
       "  <tbody>\n",
       "    <tr>\n",
       "      <th>0</th>\n",
       "      <td>0.0</td>\n",
       "      <td>0.0</td>\n",
       "      <td>0.0</td>\n",
       "      <td>1.0</td>\n",
       "      <td>1.0</td>\n",
       "    </tr>\n",
       "    <tr>\n",
       "      <th>1</th>\n",
       "      <td>0.0</td>\n",
       "      <td>1.0</td>\n",
       "      <td>0.0</td>\n",
       "      <td>0.0</td>\n",
       "      <td>1.0</td>\n",
       "    </tr>\n",
       "    <tr>\n",
       "      <th>2</th>\n",
       "      <td>0.0</td>\n",
       "      <td>0.0</td>\n",
       "      <td>0.0</td>\n",
       "      <td>1.0</td>\n",
       "      <td>0.0</td>\n",
       "    </tr>\n",
       "    <tr>\n",
       "      <th>3</th>\n",
       "      <td>0.0</td>\n",
       "      <td>0.0</td>\n",
       "      <td>0.0</td>\n",
       "      <td>0.0</td>\n",
       "      <td>0.0</td>\n",
       "    </tr>\n",
       "    <tr>\n",
       "      <th>4</th>\n",
       "      <td>0.0</td>\n",
       "      <td>1.0</td>\n",
       "      <td>0.0</td>\n",
       "      <td>1.0</td>\n",
       "      <td>1.0</td>\n",
       "    </tr>\n",
       "    <tr>\n",
       "      <th>...</th>\n",
       "      <td>...</td>\n",
       "      <td>...</td>\n",
       "      <td>...</td>\n",
       "      <td>...</td>\n",
       "      <td>...</td>\n",
       "    </tr>\n",
       "    <tr>\n",
       "      <th>9995</th>\n",
       "      <td>0.0</td>\n",
       "      <td>0.0</td>\n",
       "      <td>1.0</td>\n",
       "      <td>1.0</td>\n",
       "      <td>0.0</td>\n",
       "    </tr>\n",
       "    <tr>\n",
       "      <th>9996</th>\n",
       "      <td>0.0</td>\n",
       "      <td>0.0</td>\n",
       "      <td>1.0</td>\n",
       "      <td>1.0</td>\n",
       "      <td>1.0</td>\n",
       "    </tr>\n",
       "    <tr>\n",
       "      <th>9997</th>\n",
       "      <td>0.0</td>\n",
       "      <td>0.0</td>\n",
       "      <td>0.0</td>\n",
       "      <td>0.0</td>\n",
       "      <td>1.0</td>\n",
       "    </tr>\n",
       "    <tr>\n",
       "      <th>9998</th>\n",
       "      <td>1.0</td>\n",
       "      <td>0.0</td>\n",
       "      <td>1.0</td>\n",
       "      <td>1.0</td>\n",
       "      <td>0.0</td>\n",
       "    </tr>\n",
       "    <tr>\n",
       "      <th>9999</th>\n",
       "      <td>0.0</td>\n",
       "      <td>0.0</td>\n",
       "      <td>0.0</td>\n",
       "      <td>1.0</td>\n",
       "      <td>0.0</td>\n",
       "    </tr>\n",
       "  </tbody>\n",
       "</table>\n",
       "<p>10000 rows × 5 columns</p>\n",
       "</div>"
      ],
      "text/plain": [
       "      country_Germany  country_Spain  gender_Male  credit_card_Yes  \\\n",
       "0                 0.0            0.0          0.0              1.0   \n",
       "1                 0.0            1.0          0.0              0.0   \n",
       "2                 0.0            0.0          0.0              1.0   \n",
       "3                 0.0            0.0          0.0              0.0   \n",
       "4                 0.0            1.0          0.0              1.0   \n",
       "...               ...            ...          ...              ...   \n",
       "9995              0.0            0.0          1.0              1.0   \n",
       "9996              0.0            0.0          1.0              1.0   \n",
       "9997              0.0            0.0          0.0              0.0   \n",
       "9998              1.0            0.0          1.0              1.0   \n",
       "9999              0.0            0.0          0.0              1.0   \n",
       "\n",
       "      active_member_Yes  \n",
       "0                   1.0  \n",
       "1                   1.0  \n",
       "2                   0.0  \n",
       "3                   0.0  \n",
       "4                   1.0  \n",
       "...                 ...  \n",
       "9995                0.0  \n",
       "9996                1.0  \n",
       "9997                1.0  \n",
       "9998                0.0  \n",
       "9999                0.0  \n",
       "\n",
       "[10000 rows x 5 columns]"
      ]
     },
     "execution_count": 42,
     "metadata": {},
     "output_type": "execute_result"
    }
   ],
   "source": [
    "encoded_df = pd.DataFrame (df_cat_ohe, columns = feat_name)\n",
    "encoded_df"
   ]
  },
  {
   "cell_type": "markdown",
   "id": "75e28016",
   "metadata": {},
   "source": [
    "### Splitting the data into Train and Test"
   ]
  },
  {
   "cell_type": "code",
   "execution_count": 43,
   "id": "8c651892",
   "metadata": {},
   "outputs": [],
   "source": [
    "from sklearn.model_selection import train_test_split"
   ]
  },
  {
   "cell_type": "code",
   "execution_count": 44,
   "id": "b12e71dc",
   "metadata": {},
   "outputs": [
    {
     "data": {
      "text/html": [
       "<div>\n",
       "<style scoped>\n",
       "    .dataframe tbody tr th:only-of-type {\n",
       "        vertical-align: middle;\n",
       "    }\n",
       "\n",
       "    .dataframe tbody tr th {\n",
       "        vertical-align: top;\n",
       "    }\n",
       "\n",
       "    .dataframe thead th {\n",
       "        text-align: right;\n",
       "    }\n",
       "</style>\n",
       "<table border=\"1\" class=\"dataframe\">\n",
       "  <thead>\n",
       "    <tr style=\"text-align: right;\">\n",
       "      <th></th>\n",
       "      <th>credit_score</th>\n",
       "      <th>age</th>\n",
       "      <th>tenure</th>\n",
       "      <th>balance</th>\n",
       "      <th>products_number</th>\n",
       "      <th>estimated_salary</th>\n",
       "    </tr>\n",
       "  </thead>\n",
       "  <tbody>\n",
       "    <tr>\n",
       "      <th>0</th>\n",
       "      <td>619</td>\n",
       "      <td>42</td>\n",
       "      <td>2</td>\n",
       "      <td>0.00</td>\n",
       "      <td>1</td>\n",
       "      <td>101348.88</td>\n",
       "    </tr>\n",
       "    <tr>\n",
       "      <th>1</th>\n",
       "      <td>608</td>\n",
       "      <td>41</td>\n",
       "      <td>1</td>\n",
       "      <td>83807.86</td>\n",
       "      <td>1</td>\n",
       "      <td>112542.58</td>\n",
       "    </tr>\n",
       "    <tr>\n",
       "      <th>2</th>\n",
       "      <td>502</td>\n",
       "      <td>42</td>\n",
       "      <td>8</td>\n",
       "      <td>159660.80</td>\n",
       "      <td>3</td>\n",
       "      <td>113931.57</td>\n",
       "    </tr>\n",
       "    <tr>\n",
       "      <th>3</th>\n",
       "      <td>699</td>\n",
       "      <td>39</td>\n",
       "      <td>1</td>\n",
       "      <td>0.00</td>\n",
       "      <td>2</td>\n",
       "      <td>93826.63</td>\n",
       "    </tr>\n",
       "    <tr>\n",
       "      <th>4</th>\n",
       "      <td>850</td>\n",
       "      <td>43</td>\n",
       "      <td>2</td>\n",
       "      <td>125510.82</td>\n",
       "      <td>1</td>\n",
       "      <td>79084.10</td>\n",
       "    </tr>\n",
       "    <tr>\n",
       "      <th>...</th>\n",
       "      <td>...</td>\n",
       "      <td>...</td>\n",
       "      <td>...</td>\n",
       "      <td>...</td>\n",
       "      <td>...</td>\n",
       "      <td>...</td>\n",
       "    </tr>\n",
       "    <tr>\n",
       "      <th>9995</th>\n",
       "      <td>771</td>\n",
       "      <td>39</td>\n",
       "      <td>5</td>\n",
       "      <td>0.00</td>\n",
       "      <td>2</td>\n",
       "      <td>96270.64</td>\n",
       "    </tr>\n",
       "    <tr>\n",
       "      <th>9996</th>\n",
       "      <td>516</td>\n",
       "      <td>35</td>\n",
       "      <td>10</td>\n",
       "      <td>57369.61</td>\n",
       "      <td>1</td>\n",
       "      <td>101699.77</td>\n",
       "    </tr>\n",
       "    <tr>\n",
       "      <th>9997</th>\n",
       "      <td>709</td>\n",
       "      <td>36</td>\n",
       "      <td>7</td>\n",
       "      <td>0.00</td>\n",
       "      <td>1</td>\n",
       "      <td>42085.58</td>\n",
       "    </tr>\n",
       "    <tr>\n",
       "      <th>9998</th>\n",
       "      <td>772</td>\n",
       "      <td>42</td>\n",
       "      <td>3</td>\n",
       "      <td>75075.31</td>\n",
       "      <td>2</td>\n",
       "      <td>92888.52</td>\n",
       "    </tr>\n",
       "    <tr>\n",
       "      <th>9999</th>\n",
       "      <td>792</td>\n",
       "      <td>28</td>\n",
       "      <td>4</td>\n",
       "      <td>130142.79</td>\n",
       "      <td>1</td>\n",
       "      <td>38190.78</td>\n",
       "    </tr>\n",
       "  </tbody>\n",
       "</table>\n",
       "<p>10000 rows × 6 columns</p>\n",
       "</div>"
      ],
      "text/plain": [
       "      credit_score  age  tenure    balance  products_number  estimated_salary\n",
       "0              619   42       2       0.00                1         101348.88\n",
       "1              608   41       1   83807.86                1         112542.58\n",
       "2              502   42       8  159660.80                3         113931.57\n",
       "3              699   39       1       0.00                2          93826.63\n",
       "4              850   43       2  125510.82                1          79084.10\n",
       "...            ...  ...     ...        ...              ...               ...\n",
       "9995           771   39       5       0.00                2          96270.64\n",
       "9996           516   35      10   57369.61                1         101699.77\n",
       "9997           709   36       7       0.00                1          42085.58\n",
       "9998           772   42       3   75075.31                2          92888.52\n",
       "9999           792   28       4  130142.79                1          38190.78\n",
       "\n",
       "[10000 rows x 6 columns]"
      ]
     },
     "execution_count": 44,
     "metadata": {},
     "output_type": "execute_result"
    }
   ],
   "source": [
    "df_ = df_num[['credit_score','age','tenure','balance','products_number','estimated_salary']]\n",
    "df_"
   ]
  },
  {
   "cell_type": "code",
   "execution_count": 45,
   "id": "02c05b93",
   "metadata": {},
   "outputs": [
    {
     "data": {
      "text/html": [
       "<div>\n",
       "<style scoped>\n",
       "    .dataframe tbody tr th:only-of-type {\n",
       "        vertical-align: middle;\n",
       "    }\n",
       "\n",
       "    .dataframe tbody tr th {\n",
       "        vertical-align: top;\n",
       "    }\n",
       "\n",
       "    .dataframe thead th {\n",
       "        text-align: right;\n",
       "    }\n",
       "</style>\n",
       "<table border=\"1\" class=\"dataframe\">\n",
       "  <thead>\n",
       "    <tr style=\"text-align: right;\">\n",
       "      <th></th>\n",
       "      <th>credit_score</th>\n",
       "      <th>age</th>\n",
       "      <th>tenure</th>\n",
       "      <th>balance</th>\n",
       "      <th>products_number</th>\n",
       "      <th>estimated_salary</th>\n",
       "      <th>country_Germany</th>\n",
       "      <th>country_Spain</th>\n",
       "      <th>gender_Male</th>\n",
       "      <th>credit_card_Yes</th>\n",
       "      <th>active_member_Yes</th>\n",
       "    </tr>\n",
       "  </thead>\n",
       "  <tbody>\n",
       "    <tr>\n",
       "      <th>0</th>\n",
       "      <td>619</td>\n",
       "      <td>42</td>\n",
       "      <td>2</td>\n",
       "      <td>0.00</td>\n",
       "      <td>1</td>\n",
       "      <td>101348.88</td>\n",
       "      <td>0.0</td>\n",
       "      <td>0.0</td>\n",
       "      <td>0.0</td>\n",
       "      <td>1.0</td>\n",
       "      <td>1.0</td>\n",
       "    </tr>\n",
       "    <tr>\n",
       "      <th>1</th>\n",
       "      <td>608</td>\n",
       "      <td>41</td>\n",
       "      <td>1</td>\n",
       "      <td>83807.86</td>\n",
       "      <td>1</td>\n",
       "      <td>112542.58</td>\n",
       "      <td>0.0</td>\n",
       "      <td>1.0</td>\n",
       "      <td>0.0</td>\n",
       "      <td>0.0</td>\n",
       "      <td>1.0</td>\n",
       "    </tr>\n",
       "    <tr>\n",
       "      <th>2</th>\n",
       "      <td>502</td>\n",
       "      <td>42</td>\n",
       "      <td>8</td>\n",
       "      <td>159660.80</td>\n",
       "      <td>3</td>\n",
       "      <td>113931.57</td>\n",
       "      <td>0.0</td>\n",
       "      <td>0.0</td>\n",
       "      <td>0.0</td>\n",
       "      <td>1.0</td>\n",
       "      <td>0.0</td>\n",
       "    </tr>\n",
       "    <tr>\n",
       "      <th>3</th>\n",
       "      <td>699</td>\n",
       "      <td>39</td>\n",
       "      <td>1</td>\n",
       "      <td>0.00</td>\n",
       "      <td>2</td>\n",
       "      <td>93826.63</td>\n",
       "      <td>0.0</td>\n",
       "      <td>0.0</td>\n",
       "      <td>0.0</td>\n",
       "      <td>0.0</td>\n",
       "      <td>0.0</td>\n",
       "    </tr>\n",
       "    <tr>\n",
       "      <th>4</th>\n",
       "      <td>850</td>\n",
       "      <td>43</td>\n",
       "      <td>2</td>\n",
       "      <td>125510.82</td>\n",
       "      <td>1</td>\n",
       "      <td>79084.10</td>\n",
       "      <td>0.0</td>\n",
       "      <td>1.0</td>\n",
       "      <td>0.0</td>\n",
       "      <td>1.0</td>\n",
       "      <td>1.0</td>\n",
       "    </tr>\n",
       "    <tr>\n",
       "      <th>...</th>\n",
       "      <td>...</td>\n",
       "      <td>...</td>\n",
       "      <td>...</td>\n",
       "      <td>...</td>\n",
       "      <td>...</td>\n",
       "      <td>...</td>\n",
       "      <td>...</td>\n",
       "      <td>...</td>\n",
       "      <td>...</td>\n",
       "      <td>...</td>\n",
       "      <td>...</td>\n",
       "    </tr>\n",
       "    <tr>\n",
       "      <th>9995</th>\n",
       "      <td>771</td>\n",
       "      <td>39</td>\n",
       "      <td>5</td>\n",
       "      <td>0.00</td>\n",
       "      <td>2</td>\n",
       "      <td>96270.64</td>\n",
       "      <td>0.0</td>\n",
       "      <td>0.0</td>\n",
       "      <td>1.0</td>\n",
       "      <td>1.0</td>\n",
       "      <td>0.0</td>\n",
       "    </tr>\n",
       "    <tr>\n",
       "      <th>9996</th>\n",
       "      <td>516</td>\n",
       "      <td>35</td>\n",
       "      <td>10</td>\n",
       "      <td>57369.61</td>\n",
       "      <td>1</td>\n",
       "      <td>101699.77</td>\n",
       "      <td>0.0</td>\n",
       "      <td>0.0</td>\n",
       "      <td>1.0</td>\n",
       "      <td>1.0</td>\n",
       "      <td>1.0</td>\n",
       "    </tr>\n",
       "    <tr>\n",
       "      <th>9997</th>\n",
       "      <td>709</td>\n",
       "      <td>36</td>\n",
       "      <td>7</td>\n",
       "      <td>0.00</td>\n",
       "      <td>1</td>\n",
       "      <td>42085.58</td>\n",
       "      <td>0.0</td>\n",
       "      <td>0.0</td>\n",
       "      <td>0.0</td>\n",
       "      <td>0.0</td>\n",
       "      <td>1.0</td>\n",
       "    </tr>\n",
       "    <tr>\n",
       "      <th>9998</th>\n",
       "      <td>772</td>\n",
       "      <td>42</td>\n",
       "      <td>3</td>\n",
       "      <td>75075.31</td>\n",
       "      <td>2</td>\n",
       "      <td>92888.52</td>\n",
       "      <td>1.0</td>\n",
       "      <td>0.0</td>\n",
       "      <td>1.0</td>\n",
       "      <td>1.0</td>\n",
       "      <td>0.0</td>\n",
       "    </tr>\n",
       "    <tr>\n",
       "      <th>9999</th>\n",
       "      <td>792</td>\n",
       "      <td>28</td>\n",
       "      <td>4</td>\n",
       "      <td>130142.79</td>\n",
       "      <td>1</td>\n",
       "      <td>38190.78</td>\n",
       "      <td>0.0</td>\n",
       "      <td>0.0</td>\n",
       "      <td>0.0</td>\n",
       "      <td>1.0</td>\n",
       "      <td>0.0</td>\n",
       "    </tr>\n",
       "  </tbody>\n",
       "</table>\n",
       "<p>10000 rows × 11 columns</p>\n",
       "</div>"
      ],
      "text/plain": [
       "      credit_score  age  tenure    balance  products_number  estimated_salary  \\\n",
       "0              619   42       2       0.00                1         101348.88   \n",
       "1              608   41       1   83807.86                1         112542.58   \n",
       "2              502   42       8  159660.80                3         113931.57   \n",
       "3              699   39       1       0.00                2          93826.63   \n",
       "4              850   43       2  125510.82                1          79084.10   \n",
       "...            ...  ...     ...        ...              ...               ...   \n",
       "9995           771   39       5       0.00                2          96270.64   \n",
       "9996           516   35      10   57369.61                1         101699.77   \n",
       "9997           709   36       7       0.00                1          42085.58   \n",
       "9998           772   42       3   75075.31                2          92888.52   \n",
       "9999           792   28       4  130142.79                1          38190.78   \n",
       "\n",
       "      country_Germany  country_Spain  gender_Male  credit_card_Yes  \\\n",
       "0                 0.0            0.0          0.0              1.0   \n",
       "1                 0.0            1.0          0.0              0.0   \n",
       "2                 0.0            0.0          0.0              1.0   \n",
       "3                 0.0            0.0          0.0              0.0   \n",
       "4                 0.0            1.0          0.0              1.0   \n",
       "...               ...            ...          ...              ...   \n",
       "9995              0.0            0.0          1.0              1.0   \n",
       "9996              0.0            0.0          1.0              1.0   \n",
       "9997              0.0            0.0          0.0              0.0   \n",
       "9998              1.0            0.0          1.0              1.0   \n",
       "9999              0.0            0.0          0.0              1.0   \n",
       "\n",
       "      active_member_Yes  \n",
       "0                   1.0  \n",
       "1                   1.0  \n",
       "2                   0.0  \n",
       "3                   0.0  \n",
       "4                   1.0  \n",
       "...                 ...  \n",
       "9995                0.0  \n",
       "9996                1.0  \n",
       "9997                1.0  \n",
       "9998                0.0  \n",
       "9999                0.0  \n",
       "\n",
       "[10000 rows x 11 columns]"
      ]
     },
     "execution_count": 45,
     "metadata": {},
     "output_type": "execute_result"
    }
   ],
   "source": [
    "X1 = pd.concat ([df_ , encoded_df], axis = 1)\n",
    "X1"
   ]
  },
  {
   "cell_type": "code",
   "execution_count": 46,
   "id": "c1e5dcb1",
   "metadata": {},
   "outputs": [
    {
     "data": {
      "text/html": [
       "<div>\n",
       "<style scoped>\n",
       "    .dataframe tbody tr th:only-of-type {\n",
       "        vertical-align: middle;\n",
       "    }\n",
       "\n",
       "    .dataframe tbody tr th {\n",
       "        vertical-align: top;\n",
       "    }\n",
       "\n",
       "    .dataframe thead th {\n",
       "        text-align: right;\n",
       "    }\n",
       "</style>\n",
       "<table border=\"1\" class=\"dataframe\">\n",
       "  <thead>\n",
       "    <tr style=\"text-align: right;\">\n",
       "      <th></th>\n",
       "      <th>churn</th>\n",
       "    </tr>\n",
       "  </thead>\n",
       "  <tbody>\n",
       "    <tr>\n",
       "      <th>0</th>\n",
       "      <td>1</td>\n",
       "    </tr>\n",
       "    <tr>\n",
       "      <th>1</th>\n",
       "      <td>0</td>\n",
       "    </tr>\n",
       "    <tr>\n",
       "      <th>2</th>\n",
       "      <td>1</td>\n",
       "    </tr>\n",
       "    <tr>\n",
       "      <th>3</th>\n",
       "      <td>0</td>\n",
       "    </tr>\n",
       "    <tr>\n",
       "      <th>4</th>\n",
       "      <td>0</td>\n",
       "    </tr>\n",
       "    <tr>\n",
       "      <th>...</th>\n",
       "      <td>...</td>\n",
       "    </tr>\n",
       "    <tr>\n",
       "      <th>9995</th>\n",
       "      <td>0</td>\n",
       "    </tr>\n",
       "    <tr>\n",
       "      <th>9996</th>\n",
       "      <td>0</td>\n",
       "    </tr>\n",
       "    <tr>\n",
       "      <th>9997</th>\n",
       "      <td>1</td>\n",
       "    </tr>\n",
       "    <tr>\n",
       "      <th>9998</th>\n",
       "      <td>1</td>\n",
       "    </tr>\n",
       "    <tr>\n",
       "      <th>9999</th>\n",
       "      <td>0</td>\n",
       "    </tr>\n",
       "  </tbody>\n",
       "</table>\n",
       "<p>10000 rows × 1 columns</p>\n",
       "</div>"
      ],
      "text/plain": [
       "      churn\n",
       "0         1\n",
       "1         0\n",
       "2         1\n",
       "3         0\n",
       "4         0\n",
       "...     ...\n",
       "9995      0\n",
       "9996      0\n",
       "9997      1\n",
       "9998      1\n",
       "9999      0\n",
       "\n",
       "[10000 rows x 1 columns]"
      ]
     },
     "execution_count": 46,
     "metadata": {},
     "output_type": "execute_result"
    }
   ],
   "source": [
    "y1 = df_num[['churn']]\n",
    "y1"
   ]
  },
  {
   "cell_type": "code",
   "execution_count": 47,
   "id": "d80c185f",
   "metadata": {},
   "outputs": [
    {
     "name": "stdout",
     "output_type": "stream",
     "text": [
      "(10000, 11)\n",
      "(10000, 1)\n"
     ]
    }
   ],
   "source": [
    "print(X1.shape)\n",
    "print(y1.shape)"
   ]
  },
  {
   "cell_type": "code",
   "execution_count": 48,
   "id": "484f0a6a",
   "metadata": {},
   "outputs": [],
   "source": [
    "X_train,X_test,y_train,y_test = train_test_split(X1, y1, random_state = 20, test_size = 0.25)"
   ]
  },
  {
   "cell_type": "code",
   "execution_count": 49,
   "id": "98cbccf4",
   "metadata": {
    "scrolled": true
   },
   "outputs": [
    {
     "name": "stdout",
     "output_type": "stream",
     "text": [
      "(7500, 11) (2500, 11)\n",
      "(7500, 1) (2500, 1)\n"
     ]
    }
   ],
   "source": [
    "print(X_train.shape,X_test.shape)\n",
    "\n",
    "print(y_train.shape,y_test.shape)"
   ]
  },
  {
   "cell_type": "markdown",
   "id": "369ad8d8",
   "metadata": {},
   "source": [
    "### Using Statsmodel:"
   ]
  },
  {
   "cell_type": "code",
   "execution_count": 50,
   "id": "325f21b9",
   "metadata": {},
   "outputs": [],
   "source": [
    "import statsmodels.api as sm"
   ]
  },
  {
   "cell_type": "code",
   "execution_count": 51,
   "id": "e84cdf54",
   "metadata": {
    "scrolled": true
   },
   "outputs": [],
   "source": [
    "X2 = X_train\n",
    "y2 = y_train\n",
    "X2 = sm.add_constant(X2)\n",
    "X2.shape,y2.shape\n",
    "X2_test = X_test\n",
    "X2_test = sm.add_constant(X2_test)"
   ]
  },
  {
   "cell_type": "code",
   "execution_count": 52,
   "id": "3e6c9a63",
   "metadata": {},
   "outputs": [],
   "source": [
    "X2_test = X_test\n",
    "X2_test = sm.add_constant(X2_test)"
   ]
  },
  {
   "cell_type": "code",
   "execution_count": 53,
   "id": "11c2f2c7",
   "metadata": {},
   "outputs": [
    {
     "name": "stdout",
     "output_type": "stream",
     "text": [
      "Optimization terminated successfully.\n",
      "         Current function value: 0.430510\n",
      "         Iterations 6\n"
     ]
    },
    {
     "data": {
      "text/html": [
       "<table class=\"simpletable\">\n",
       "<caption>Logit Regression Results</caption>\n",
       "<tr>\n",
       "  <th>Dep. Variable:</th>         <td>churn</td>      <th>  No. Observations:  </th>   <td>  7500</td>  \n",
       "</tr>\n",
       "<tr>\n",
       "  <th>Model:</th>                 <td>Logit</td>      <th>  Df Residuals:      </th>   <td>  7488</td>  \n",
       "</tr>\n",
       "<tr>\n",
       "  <th>Method:</th>                 <td>MLE</td>       <th>  Df Model:          </th>   <td>    11</td>  \n",
       "</tr>\n",
       "<tr>\n",
       "  <th>Date:</th>            <td>Tue, 27 Jun 2023</td> <th>  Pseudo R-squ.:     </th>   <td>0.1577</td>  \n",
       "</tr>\n",
       "<tr>\n",
       "  <th>Time:</th>                <td>10:11:38</td>     <th>  Log-Likelihood:    </th>  <td> -3228.8</td> \n",
       "</tr>\n",
       "<tr>\n",
       "  <th>converged:</th>             <td>True</td>       <th>  LL-Null:           </th>  <td> -3833.4</td> \n",
       "</tr>\n",
       "<tr>\n",
       "  <th>Covariance Type:</th>     <td>nonrobust</td>    <th>  LLR p-value:       </th> <td>1.774e-252</td>\n",
       "</tr>\n",
       "</table>\n",
       "<table class=\"simpletable\">\n",
       "<tr>\n",
       "          <td></td>             <th>coef</th>     <th>std err</th>      <th>z</th>      <th>P>|z|</th>  <th>[0.025</th>    <th>0.975]</th>  \n",
       "</tr>\n",
       "<tr>\n",
       "  <th>const</th>             <td>   -3.5236</td> <td>    0.281</td> <td>  -12.533</td> <td> 0.000</td> <td>   -4.075</td> <td>   -2.973</td>\n",
       "</tr>\n",
       "<tr>\n",
       "  <th>credit_score</th>      <td>   -0.0006</td> <td>    0.000</td> <td>   -1.860</td> <td> 0.063</td> <td>   -0.001</td> <td> 3.19e-05</td>\n",
       "</tr>\n",
       "<tr>\n",
       "  <th>age</th>               <td>    0.0747</td> <td>    0.003</td> <td>   25.060</td> <td> 0.000</td> <td>    0.069</td> <td>    0.081</td>\n",
       "</tr>\n",
       "<tr>\n",
       "  <th>tenure</th>            <td>   -0.0183</td> <td>    0.011</td> <td>   -1.700</td> <td> 0.089</td> <td>   -0.039</td> <td>    0.003</td>\n",
       "</tr>\n",
       "<tr>\n",
       "  <th>balance</th>           <td> 2.849e-06</td> <td> 5.91e-07</td> <td>    4.822</td> <td> 0.000</td> <td> 1.69e-06</td> <td> 4.01e-06</td>\n",
       "</tr>\n",
       "<tr>\n",
       "  <th>products_number</th>   <td>   -0.1038</td> <td>    0.054</td> <td>   -1.915</td> <td> 0.055</td> <td>   -0.210</td> <td>    0.002</td>\n",
       "</tr>\n",
       "<tr>\n",
       "  <th>estimated_salary</th>  <td> 2.802e-07</td> <td> 5.46e-07</td> <td>    0.513</td> <td> 0.608</td> <td>-7.91e-07</td> <td> 1.35e-06</td>\n",
       "</tr>\n",
       "<tr>\n",
       "  <th>country_Germany</th>   <td>    0.7381</td> <td>    0.078</td> <td>    9.515</td> <td> 0.000</td> <td>    0.586</td> <td>    0.890</td>\n",
       "</tr>\n",
       "<tr>\n",
       "  <th>country_Spain</th>     <td>   -0.0125</td> <td>    0.081</td> <td>   -0.154</td> <td> 0.878</td> <td>   -0.171</td> <td>    0.146</td>\n",
       "</tr>\n",
       "<tr>\n",
       "  <th>gender_Male</th>       <td>   -0.4629</td> <td>    0.063</td> <td>   -7.392</td> <td> 0.000</td> <td>   -0.586</td> <td>   -0.340</td>\n",
       "</tr>\n",
       "<tr>\n",
       "  <th>credit_card_Yes</th>   <td>    0.0041</td> <td>    0.069</td> <td>    0.059</td> <td> 0.953</td> <td>   -0.131</td> <td>    0.139</td>\n",
       "</tr>\n",
       "<tr>\n",
       "  <th>active_member_Yes</th> <td>   -1.0848</td> <td>    0.066</td> <td>  -16.341</td> <td> 0.000</td> <td>   -1.215</td> <td>   -0.955</td>\n",
       "</tr>\n",
       "</table>"
      ],
      "text/plain": [
       "<class 'statsmodels.iolib.summary.Summary'>\n",
       "\"\"\"\n",
       "                           Logit Regression Results                           \n",
       "==============================================================================\n",
       "Dep. Variable:                  churn   No. Observations:                 7500\n",
       "Model:                          Logit   Df Residuals:                     7488\n",
       "Method:                           MLE   Df Model:                           11\n",
       "Date:                Tue, 27 Jun 2023   Pseudo R-squ.:                  0.1577\n",
       "Time:                        10:11:38   Log-Likelihood:                -3228.8\n",
       "converged:                       True   LL-Null:                       -3833.4\n",
       "Covariance Type:            nonrobust   LLR p-value:                1.774e-252\n",
       "=====================================================================================\n",
       "                        coef    std err          z      P>|z|      [0.025      0.975]\n",
       "-------------------------------------------------------------------------------------\n",
       "const                -3.5236      0.281    -12.533      0.000      -4.075      -2.973\n",
       "credit_score         -0.0006      0.000     -1.860      0.063      -0.001    3.19e-05\n",
       "age                   0.0747      0.003     25.060      0.000       0.069       0.081\n",
       "tenure               -0.0183      0.011     -1.700      0.089      -0.039       0.003\n",
       "balance            2.849e-06   5.91e-07      4.822      0.000    1.69e-06    4.01e-06\n",
       "products_number      -0.1038      0.054     -1.915      0.055      -0.210       0.002\n",
       "estimated_salary   2.802e-07   5.46e-07      0.513      0.608   -7.91e-07    1.35e-06\n",
       "country_Germany       0.7381      0.078      9.515      0.000       0.586       0.890\n",
       "country_Spain        -0.0125      0.081     -0.154      0.878      -0.171       0.146\n",
       "gender_Male          -0.4629      0.063     -7.392      0.000      -0.586      -0.340\n",
       "credit_card_Yes       0.0041      0.069      0.059      0.953      -0.131       0.139\n",
       "active_member_Yes    -1.0848      0.066    -16.341      0.000      -1.215      -0.955\n",
       "=====================================================================================\n",
       "\"\"\""
      ]
     },
     "execution_count": 53,
     "metadata": {},
     "output_type": "execute_result"
    }
   ],
   "source": [
    "stats_model = sm.Logit(y2, X2)\n",
    "\n",
    "results = stats_model.fit()\n",
    "\n",
    "results.summary()"
   ]
  },
  {
   "cell_type": "code",
   "execution_count": 54,
   "id": "b4be60eb",
   "metadata": {
    "scrolled": true
   },
   "outputs": [
    {
     "name": "stdout",
     "output_type": "stream",
     "text": [
      "Optimization terminated successfully.\n",
      "         Current function value: 0.430510\n",
      "         Iterations 6\n",
      "Variable removed: credit_card_Yes 0.9526378685192197\n",
      "Optimization terminated successfully.\n",
      "         Current function value: 0.430510\n",
      "         Iterations 6\n",
      "Variable removed: country_Spain 0.8775305344124119\n",
      "Optimization terminated successfully.\n",
      "         Current function value: 0.430512\n",
      "         Iterations 6\n",
      "Variable removed: estimated_salary 0.6088449157443812\n",
      "Optimization terminated successfully.\n",
      "         Current function value: 0.430529\n",
      "         Iterations 6\n",
      "Variable removed: tenure 0.08997300066092617\n",
      "Optimization terminated successfully.\n",
      "         Current function value: 0.430721\n",
      "         Iterations 6\n",
      "Variable removed: credit_score 0.060864913095120945\n",
      "Optimization terminated successfully.\n",
      "         Current function value: 0.430955\n",
      "         Iterations 6\n",
      "Variable removed: products_number 0.051138365587738904\n",
      "Optimization terminated successfully.\n",
      "         Current function value: 0.431211\n",
      "         Iterations 6\n"
     ]
    },
    {
     "data": {
      "text/plain": [
       "['const',\n",
       " 'age',\n",
       " 'balance',\n",
       " 'country_Germany',\n",
       " 'gender_Male',\n",
       " 'active_member_Yes']"
      ]
     },
     "execution_count": 54,
     "metadata": {},
     "output_type": "execute_result"
    }
   ],
   "source": [
    "# Backward elimination to drop insignificant variables one by one\n",
    "\n",
    "cols = list(X2.columns)\n",
    "p = []\n",
    "\n",
    "while len(cols)>1:\n",
    "    X2 = X2[cols]\n",
    "    model= sm.Logit(y2, X2).fit()\n",
    "    \n",
    "    p = model.pvalues\n",
    "    pmax = max(p)\n",
    "    pid = p.idxmax()\n",
    "    if pmax>0.05:\n",
    "        cols.remove(pid)\n",
    "        print('Variable removed:', pid, pmax)\n",
    "    else:\n",
    "        break\n",
    "cols   "
   ]
  },
  {
   "cell_type": "code",
   "execution_count": 55,
   "id": "0605718e",
   "metadata": {},
   "outputs": [],
   "source": [
    "predicted_probs = results.predict(X2_test)"
   ]
  },
  {
   "cell_type": "code",
   "execution_count": 57,
   "id": "7e0fea1f",
   "metadata": {},
   "outputs": [],
   "source": [
    "from sklearn.metrics import accuracy_score, precision_score, recall_score\n",
    "from sklearn.metrics import confusion_matrix, roc_auc_score, plot_roc_curve, roc_curve"
   ]
  },
  {
   "cell_type": "code",
   "execution_count": 58,
   "id": "3ec81580",
   "metadata": {},
   "outputs": [
    {
     "name": "stdout",
     "output_type": "stream",
     "text": [
      "AUROC: 0.7535033046530011\n"
     ]
    }
   ],
   "source": [
    "auroc = roc_auc_score(y_test, predicted_probs)\n",
    "print(\"AUROC:\", auroc)"
   ]
  },
  {
   "cell_type": "code",
   "execution_count": 59,
   "id": "cba3197c",
   "metadata": {},
   "outputs": [],
   "source": [
    "X3 = X2[['age','balance','country_Germany','gender_Male','active_member_Yes']]\n",
    "X3 = sm.add_constant(X3)\n",
    "X3_test = X2_test[['age','balance','country_Germany','gender_Male','active_member_Yes']]\n",
    "X3_test = sm.add_constant(X3_test)"
   ]
  },
  {
   "cell_type": "code",
   "execution_count": 60,
   "id": "e415200e",
   "metadata": {},
   "outputs": [
    {
     "name": "stdout",
     "output_type": "stream",
     "text": [
      "Optimization terminated successfully.\n",
      "         Current function value: 0.431211\n",
      "         Iterations 6\n"
     ]
    },
    {
     "data": {
      "text/html": [
       "<table class=\"simpletable\">\n",
       "<caption>Logit Regression Results</caption>\n",
       "<tr>\n",
       "  <th>Dep. Variable:</th>         <td>churn</td>      <th>  No. Observations:  </th>   <td>  7500</td>  \n",
       "</tr>\n",
       "<tr>\n",
       "  <th>Model:</th>                 <td>Logit</td>      <th>  Df Residuals:      </th>   <td>  7494</td>  \n",
       "</tr>\n",
       "<tr>\n",
       "  <th>Method:</th>                 <td>MLE</td>       <th>  Df Model:          </th>   <td>     5</td>  \n",
       "</tr>\n",
       "<tr>\n",
       "  <th>Date:</th>            <td>Tue, 27 Jun 2023</td> <th>  Pseudo R-squ.:     </th>   <td>0.1563</td>  \n",
       "</tr>\n",
       "<tr>\n",
       "  <th>Time:</th>                <td>10:12:37</td>     <th>  Log-Likelihood:    </th>  <td> -3234.1</td> \n",
       "</tr>\n",
       "<tr>\n",
       "  <th>converged:</th>             <td>True</td>       <th>  LL-Null:           </th>  <td> -3833.4</td> \n",
       "</tr>\n",
       "<tr>\n",
       "  <th>Covariance Type:</th>     <td>nonrobust</td>    <th>  LLR p-value:       </th> <td>5.954e-257</td>\n",
       "</tr>\n",
       "</table>\n",
       "<table class=\"simpletable\">\n",
       "<tr>\n",
       "          <td></td>             <th>coef</th>     <th>std err</th>      <th>z</th>      <th>P>|z|</th>  <th>[0.025</th>    <th>0.975]</th>  \n",
       "</tr>\n",
       "<tr>\n",
       "  <th>const</th>             <td>   -4.1580</td> <td>    0.138</td> <td>  -30.210</td> <td> 0.000</td> <td>   -4.428</td> <td>   -3.888</td>\n",
       "</tr>\n",
       "<tr>\n",
       "  <th>age</th>               <td>    0.0748</td> <td>    0.003</td> <td>   25.135</td> <td> 0.000</td> <td>    0.069</td> <td>    0.081</td>\n",
       "</tr>\n",
       "<tr>\n",
       "  <th>balance</th>           <td> 3.149e-06</td> <td> 5.69e-07</td> <td>    5.538</td> <td> 0.000</td> <td> 2.03e-06</td> <td> 4.26e-06</td>\n",
       "</tr>\n",
       "<tr>\n",
       "  <th>country_Germany</th>   <td>    0.7279</td> <td>    0.072</td> <td>   10.102</td> <td> 0.000</td> <td>    0.587</td> <td>    0.869</td>\n",
       "</tr>\n",
       "<tr>\n",
       "  <th>gender_Male</th>       <td>   -0.4585</td> <td>    0.063</td> <td>   -7.334</td> <td> 0.000</td> <td>   -0.581</td> <td>   -0.336</td>\n",
       "</tr>\n",
       "<tr>\n",
       "  <th>active_member_Yes</th> <td>   -1.0879</td> <td>    0.066</td> <td>  -16.423</td> <td> 0.000</td> <td>   -1.218</td> <td>   -0.958</td>\n",
       "</tr>\n",
       "</table>"
      ],
      "text/plain": [
       "<class 'statsmodels.iolib.summary.Summary'>\n",
       "\"\"\"\n",
       "                           Logit Regression Results                           \n",
       "==============================================================================\n",
       "Dep. Variable:                  churn   No. Observations:                 7500\n",
       "Model:                          Logit   Df Residuals:                     7494\n",
       "Method:                           MLE   Df Model:                            5\n",
       "Date:                Tue, 27 Jun 2023   Pseudo R-squ.:                  0.1563\n",
       "Time:                        10:12:37   Log-Likelihood:                -3234.1\n",
       "converged:                       True   LL-Null:                       -3833.4\n",
       "Covariance Type:            nonrobust   LLR p-value:                5.954e-257\n",
       "=====================================================================================\n",
       "                        coef    std err          z      P>|z|      [0.025      0.975]\n",
       "-------------------------------------------------------------------------------------\n",
       "const                -4.1580      0.138    -30.210      0.000      -4.428      -3.888\n",
       "age                   0.0748      0.003     25.135      0.000       0.069       0.081\n",
       "balance            3.149e-06   5.69e-07      5.538      0.000    2.03e-06    4.26e-06\n",
       "country_Germany       0.7279      0.072     10.102      0.000       0.587       0.869\n",
       "gender_Male          -0.4585      0.063     -7.334      0.000      -0.581      -0.336\n",
       "active_member_Yes    -1.0879      0.066    -16.423      0.000      -1.218      -0.958\n",
       "=====================================================================================\n",
       "\"\"\""
      ]
     },
     "execution_count": 60,
     "metadata": {},
     "output_type": "execute_result"
    }
   ],
   "source": [
    "stats_model = sm.Logit(y2, X3)\n",
    "\n",
    "results1 = stats_model.fit()\n",
    "\n",
    "results1.summary()"
   ]
  },
  {
   "cell_type": "code",
   "execution_count": 61,
   "id": "069900ef",
   "metadata": {},
   "outputs": [
    {
     "name": "stdout",
     "output_type": "stream",
     "text": [
      "AUROC: 0.7523238104697697\n"
     ]
    }
   ],
   "source": [
    "predicted_probs1 = results1.predict(X3_test)\n",
    "\n",
    "auroc1 = roc_auc_score(y_test, predicted_probs1)\n",
    "print(\"AUROC:\", auroc1)"
   ]
  },
  {
   "cell_type": "markdown",
   "id": "7b91780b",
   "metadata": {},
   "source": [
    "Report: \n",
    "    \n",
    "    There isn't any significance difference between the first statsmodel and the second statsmodel (where we have dropped the insignificant features).\n",
    "    Thus, we are considering the second model as in this model we have removed all the insignificant features."
   ]
  },
  {
   "cell_type": "markdown",
   "id": "75e33754",
   "metadata": {},
   "source": [
    "### Using Sklearn:`"
   ]
  },
  {
   "cell_type": "markdown",
   "id": "22287b52",
   "metadata": {},
   "source": [
    "1. Logistic Regression Model:"
   ]
  },
  {
   "cell_type": "code",
   "execution_count": 62,
   "id": "64f15763",
   "metadata": {},
   "outputs": [],
   "source": [
    "from sklearn.linear_model import LogisticRegression"
   ]
  },
  {
   "cell_type": "code",
   "execution_count": 63,
   "id": "5bd30dd9",
   "metadata": {},
   "outputs": [
    {
     "data": {
      "text/plain": [
       "LogisticRegression()"
      ]
     },
     "execution_count": 63,
     "metadata": {},
     "output_type": "execute_result"
    }
   ],
   "source": [
    "logreg = LogisticRegression()\n",
    "logreg.fit(X_train, y_train)"
   ]
  },
  {
   "cell_type": "code",
   "execution_count": 64,
   "id": "4cb2833c",
   "metadata": {},
   "outputs": [],
   "source": [
    "y_pred = logreg.predict(X_test)\n",
    "y_train_pred = logreg.predict(X_train)\n",
    "y_train_prob = logreg.predict_proba(X_train)[:,1]"
   ]
  },
  {
   "cell_type": "code",
   "execution_count": 65,
   "id": "b0d7a665",
   "metadata": {},
   "outputs": [
    {
     "name": "stdout",
     "output_type": "stream",
     "text": [
      "Accuracy Train: 0.7853333333333333\n",
      "Precision Test: 0.4072727272727273\n",
      "Recall Test: 0.0718409236690186\n"
     ]
    }
   ],
   "source": [
    "accuracy_train = accuracy_score(y_train, y_train_pred)\n",
    "precision_train = precision_score(y_train, y_train_pred)\n",
    "recall_train = recall_score(y_train, y_train_pred)\n",
    "\n",
    "print(\"Accuracy Train:\", accuracy_train)\n",
    "print(\"Precision Test:\", precision_train)\n",
    "print(\"Recall Test:\", recall_train)"
   ]
  },
  {
   "cell_type": "code",
   "execution_count": 66,
   "id": "fa1021c2",
   "metadata": {},
   "outputs": [
    {
     "name": "stdout",
     "output_type": "stream",
     "text": [
      "Accuracy Test: 0.8024\n",
      "Precision Test: 0.39473684210526316\n",
      "Recall Test: 0.06276150627615062\n"
     ]
    }
   ],
   "source": [
    "accuracy_test = accuracy_score(y_test, y_pred)\n",
    "precision_test = precision_score(y_test, y_pred)\n",
    "recall_test = recall_score(y_test, y_pred)\n",
    "\n",
    "print(\"Accuracy Test:\", accuracy_test)\n",
    "print(\"Precision Test:\", precision_test)\n",
    "print(\"Recall Test:\", recall_test)"
   ]
  },
  {
   "cell_type": "markdown",
   "id": "772b92b5",
   "metadata": {},
   "source": [
    "AU-ROC Curve:"
   ]
  },
  {
   "cell_type": "code",
   "execution_count": 67,
   "id": "0c598fd9",
   "metadata": {
    "scrolled": true
   },
   "outputs": [
    {
     "name": "stdout",
     "output_type": "stream",
     "text": [
      "Train AU-ROC Curve:\n",
      "\n",
      "AU-ROC Score: 0.522202232580175\n"
     ]
    },
    {
     "data": {
      "image/png": "[encoded data removed]",
      "text/plain": [
       "<Figure size 640x480 with 1 Axes>"
      ]
     },
     "metadata": {},
     "output_type": "display_data"
    }
   ],
   "source": [
    "print('Train AU-ROC Curve:')\n",
    "\n",
    "# Calculate AU-ROC score\n",
    "\n",
    "fpr, tpr, thresholds = roc_curve(y_train, y_train_prob )\n",
    "auc_roc = roc_auc_score(y_train, y_train_pred)\n",
    "print(\"\\nAU-ROC Score:\", auc_roc)\n",
    "\n",
    "# Plot AU-ROC curve\n",
    "\n",
    "plot_roc_curve(logreg, X_train, y_train)\n",
    "plt.show()"
   ]
  },
  {
   "cell_type": "code",
   "execution_count": 68,
   "id": "fc7a7b7e",
   "metadata": {},
   "outputs": [
    {
     "data": {
      "image/png": "[encoded data removed]",
      "text/plain": [
       "<Figure size 640x480 with 1 Axes>"
      ]
     },
     "metadata": {},
     "output_type": "display_data"
    }
   ],
   "source": [
    "plt.plot(fpr, tpr)\n",
    "plt.plot(fpr, fpr)\n",
    "plt.show()"
   ]
  },
  {
   "cell_type": "code",
   "execution_count": 69,
   "id": "600a2c09",
   "metadata": {
    "scrolled": true
   },
   "outputs": [
    {
     "name": "stdout",
     "output_type": "stream",
     "text": [
      "Test AU-ROC Curve:\n",
      "\n",
      "AU-ROC Score: 0.5200058767780357\n"
     ]
    },
    {
     "data": {
      "image/png": "[encoded data removed]",
      "text/plain": [
       "<Figure size 640x480 with 1 Axes>"
      ]
     },
     "metadata": {},
     "output_type": "display_data"
    }
   ],
   "source": [
    "print('Test AU-ROC Curve:')\n",
    "\n",
    "# Calculate AU-ROC score\n",
    "\n",
    "auc_roc = roc_auc_score(y_test, y_pred)\n",
    "print(\"\\nAU-ROC Score:\", auc_roc)\n",
    "\n",
    "# Plot AU-ROC curve\n",
    "\n",
    "plot_roc_curve(logreg, X_test, y_test)\n",
    "plt.show()"
   ]
  },
  {
   "cell_type": "markdown",
   "id": "6a1e3184",
   "metadata": {},
   "source": [
    "### Feature Selection:"
   ]
  },
  {
   "cell_type": "markdown",
   "id": "1f44dcd6",
   "metadata": {},
   "source": [
    "1. Sequential Feature Selection (SFS):"
   ]
  },
  {
   "cell_type": "code",
   "execution_count": 70,
   "id": "39e23281",
   "metadata": {},
   "outputs": [
    {
     "name": "stdout",
     "output_type": "stream",
     "text": [
      "Selected features for k=1: Index(['age'], dtype='object')\n",
      "Selected features for k=2: Index(['age', 'country_Germany'], dtype='object')\n",
      "Selected features for k=3: Index(['age', 'country_Germany', 'active_member_Yes'], dtype='object')\n",
      "Selected features for k=4: Index(['age', 'country_Germany', 'gender_Male', 'active_member_Yes'], dtype='object')\n",
      "Selected features for k=5: Index(['age', 'tenure', 'country_Germany', 'gender_Male', 'active_member_Yes'], dtype='object')\n",
      "Selected features for k=6: Index(['credit_score', 'age', 'tenure', 'country_Germany', 'gender_Male',\n",
      "       'active_member_Yes'],\n",
      "      dtype='object')\n",
      "Selected features for k=7: Index(['credit_score', 'age', 'tenure', 'country_Germany', 'gender_Male',\n",
      "       'credit_card_Yes', 'active_member_Yes'],\n",
      "      dtype='object')\n",
      "Selected features for k=8: Index(['credit_score', 'age', 'tenure', 'country_Germany', 'country_Spain',\n",
      "       'gender_Male', 'credit_card_Yes', 'active_member_Yes'],\n",
      "      dtype='object')\n",
      "Selected features for k=9: Index(['credit_score', 'age', 'tenure', 'products_number', 'country_Germany',\n",
      "       'country_Spain', 'gender_Male', 'credit_card_Yes', 'active_member_Yes'],\n",
      "      dtype='object')\n",
      "Selected features for k=10: Index(['credit_score', 'age', 'tenure', 'products_number', 'estimated_salary',\n",
      "       'country_Germany', 'country_Spain', 'gender_Male', 'credit_card_Yes',\n",
      "       'active_member_Yes'],\n",
      "      dtype='object')\n",
      "Selected features for k=11: Index(['credit_score', 'age', 'tenure', 'balance', 'products_number',\n",
      "       'estimated_salary', 'country_Germany', 'country_Spain', 'gender_Male',\n",
      "       'credit_card_Yes', 'active_member_Yes'],\n",
      "      dtype='object')\n"
     ]
    }
   ],
   "source": [
    "from mlxtend.feature_selection import SequentialFeatureSelector\n",
    "from sklearn.linear_model import LogisticRegression\n",
    "\n",
    "# Defining the range of k values\n",
    "k_values = range(1, 12)\n",
    "\n",
    "for k in k_values:\n",
    "    logistic_regression = LogisticRegression()\n",
    "\n",
    "    # Creating the Sequential Feature Selector object\n",
    "    sfs = SequentialFeatureSelector(logistic_regression,\n",
    "                                    k_features=k,\n",
    "                                    forward=True,\n",
    "                                    scoring='roc_auc',  # Use ROC AUC as the scoring metric\n",
    "                                    cv=5)\n",
    "    \n",
    "    # Perform feature selection\n",
    "    sfs.fit(X_train, y_train)\n",
    "\n",
    "    # Geting the selected feature subset\n",
    "    selected_features_sfs_lr = X_train.columns[list(sfs.k_feature_idx_)]\n",
    "\n",
    "    print(f\"Selected features for k={k}: {selected_features_sfs_lr}\")\n"
   ]
  },
  {
   "cell_type": "code",
   "execution_count": 71,
   "id": "ad2facef",
   "metadata": {},
   "outputs": [],
   "source": [
    "from mlxtend.plotting import plot_sequential_feature_selection as plot_sfs"
   ]
  },
  {
   "cell_type": "code",
   "execution_count": 72,
   "id": "4c28fd10",
   "metadata": {},
   "outputs": [
    {
     "data": {
      "image/png": "[encoded data removed]",
      "text/plain": [
       "<Figure size 640x480 with 1 Axes>"
      ]
     },
     "metadata": {},
     "output_type": "display_data"
    }
   ],
   "source": [
    "fig1 = plot_sfs(sfs.get_metric_dict(), kind='std_dev')\n",
    "plt.ylim(0.60, 0.90)\n",
    "plt.grid()\n",
    "plt.show()"
   ]
  },
  {
   "cell_type": "markdown",
   "id": "2b821f8a",
   "metadata": {},
   "source": [
    "Interpretation:\n",
    "    \n",
    "    As we can see from the graph above that after 5 features the performance is stable even if we take 6,7 or 8 features. However, the performance drops drastically if we take 10 or all the features."
   ]
  },
  {
   "cell_type": "markdown",
   "id": "988b2c9c",
   "metadata": {},
   "source": [
    "2. Decision Tree Model:"
   ]
  },
  {
   "cell_type": "code",
   "execution_count": 73,
   "id": "6260d05a",
   "metadata": {},
   "outputs": [
    {
     "data": {
      "text/plain": [
       "DecisionTreeClassifier(random_state=1888)"
      ]
     },
     "execution_count": 73,
     "metadata": {},
     "output_type": "execute_result"
    }
   ],
   "source": [
    "from sklearn.tree import DecisionTreeClassifier\n",
    "\n",
    "decision_tree = DecisionTreeClassifier(random_state=1888)\n",
    "decision_tree.fit(X_train, y_train)"
   ]
  },
  {
   "cell_type": "code",
   "execution_count": 74,
   "id": "0b658156",
   "metadata": {},
   "outputs": [],
   "source": [
    "y_pred_dt = decision_tree.predict(X_test)\n",
    "y_dt_train = decision_tree.predict(X_train)"
   ]
  },
  {
   "cell_type": "code",
   "execution_count": 75,
   "id": "2b427d78",
   "metadata": {},
   "outputs": [
    {
     "name": "stdout",
     "output_type": "stream",
     "text": [
      "Train set metrics:\n",
      "Accuracy: 1.0\n",
      "Precision: 1.0\n",
      "Recall: 1.0\n"
     ]
    }
   ],
   "source": [
    "accuracy_dt_t = accuracy_score(y_train, y_dt_train)\n",
    "precision_dt_t = precision_score(y_train, y_dt_train)\n",
    "recall_dt_t = recall_score(y_train, y_dt_train)\n",
    "\n",
    "print('Train set metrics:')\n",
    "print(\"Accuracy:\", accuracy_dt_t)\n",
    "print(\"Precision:\", precision_dt_t)\n",
    "print(\"Recall:\", recall_dt_t)"
   ]
  },
  {
   "cell_type": "code",
   "execution_count": 76,
   "id": "5a012887",
   "metadata": {
    "scrolled": false
   },
   "outputs": [
    {
     "name": "stdout",
     "output_type": "stream",
     "text": [
      "Test set metrics:\n",
      "Accuracy: 0.7932\n",
      "Precision: 0.4632768361581921\n",
      "Recall: 0.5146443514644351\n"
     ]
    }
   ],
   "source": [
    "accuracy_dt = accuracy_score(y_test, y_pred_dt)\n",
    "precision_dt = precision_score(y_test, y_pred_dt)\n",
    "recall_dt = recall_score(y_test, y_pred_dt)\n",
    "\n",
    "print('Test set metrics:')\n",
    "print(\"Accuracy:\", accuracy_dt)\n",
    "print(\"Precision:\", precision_dt)\n",
    "print(\"Recall:\", recall_dt)"
   ]
  },
  {
   "cell_type": "markdown",
   "id": "9eee1128",
   "metadata": {},
   "source": [
    "Interpretation:\n",
    "    \n",
    "    Here we can see that the accuracy of train and test for DT model has a huge gap. So, we will tune the DT model"
   ]
  },
  {
   "cell_type": "code",
   "execution_count": 77,
   "id": "c02a8055",
   "metadata": {},
   "outputs": [],
   "source": [
    "from sklearn.metrics import classification_report"
   ]
  },
  {
   "cell_type": "code",
   "execution_count": 78,
   "id": "3faf8473",
   "metadata": {
    "scrolled": true
   },
   "outputs": [
    {
     "name": "stdout",
     "output_type": "stream",
     "text": [
      "Decision Tree\n",
      "              precision    recall  f1-score   support\n",
      "\n",
      "           0       0.88      0.86      0.87      2022\n",
      "           1       0.46      0.51      0.49       478\n",
      "\n",
      "    accuracy                           0.79      2500\n",
      "   macro avg       0.67      0.69      0.68      2500\n",
      "weighted avg       0.80      0.79      0.80      2500\n",
      "\n"
     ]
    }
   ],
   "source": [
    "print(\"Decision Tree\")\n",
    "print(classification_report(y_test, y_pred_dt))"
   ]
  },
  {
   "cell_type": "markdown",
   "id": "ef62c3ad",
   "metadata": {},
   "source": [
    "TUNING THE DT HYPER PARAMETERS:"
   ]
  },
  {
   "cell_type": "code",
   "execution_count": 79,
   "id": "4b9908f1",
   "metadata": {
    "scrolled": false
   },
   "outputs": [],
   "source": [
    "from sklearn.model_selection import GridSearchCV\n",
    "from sklearn.model_selection import cross_val_score"
   ]
  },
  {
   "cell_type": "code",
   "execution_count": 80,
   "id": "7d44af03",
   "metadata": {},
   "outputs": [],
   "source": [
    "decision_tree = DecisionTreeClassifier()\n",
    "\n",
    "# Defining the parameters to tune\n",
    "\n",
    "parameters = {\n",
    "    \"max_depth\": [1, 3, 5, 7, 9, 10],\n",
    "    \"min_samples_leaf\": [2, 3, 4, 5, 6, 7, 8, 9, 10]\n",
    "}"
   ]
  },
  {
   "cell_type": "code",
   "execution_count": 81,
   "id": "5cca7409",
   "metadata": {},
   "outputs": [],
   "source": [
    "tuning_model = GridSearchCV(decision_tree, param_grid = parameters, scoring = 'accuracy',cv=5)"
   ]
  },
  {
   "cell_type": "code",
   "execution_count": 82,
   "id": "aaff5f28",
   "metadata": {},
   "outputs": [
    {
     "name": "stdout",
     "output_type": "stream",
     "text": [
      "Best parameters: {'max_depth': 7, 'min_samples_leaf': 5}\n",
      "Mean accuracy: 0.8550666666666666\n"
     ]
    }
   ],
   "source": [
    "tuning_model.fit(X_train, y_train)\n",
    "\n",
    "# best parameters:\n",
    "\n",
    "best_params = tuning_model.best_params_\n",
    "\n",
    "# best model:\n",
    "\n",
    "best_model = tuning_model.best_estimator_\n",
    "\n",
    "# Evaluate the performance of the best model\n",
    "\n",
    "scores = cross_val_score(best_model, X_train, y_train, cv=5)\n",
    "mean_accuracy = scores.mean()\n",
    "\n",
    "print(\"Best parameters:\", best_params)\n",
    "print(\"Mean accuracy:\", mean_accuracy)"
   ]
  },
  {
   "cell_type": "code",
   "execution_count": 83,
   "id": "27bedfb4",
   "metadata": {},
   "outputs": [],
   "source": [
    "y_pred = best_model.predict(X_test)\n",
    "y_pred_train = best_model.predict(X_train)"
   ]
  },
  {
   "cell_type": "code",
   "execution_count": 94,
   "id": "f0030837",
   "metadata": {},
   "outputs": [
    {
     "name": "stdout",
     "output_type": "stream",
     "text": [
      "For Train:\n",
      "Accuracy: 0.8704\n",
      "Precision: 0.8250276854928018\n",
      "Recall: 0.47787042976266836\n"
     ]
    }
   ],
   "source": [
    "accuracy_t = accuracy_score(y_train, y_pred_train)\n",
    "precision_t = precision_score(y_train, y_pred_train)\n",
    "recall_t = recall_score(y_train, y_pred_train)\n",
    "\n",
    "print('For Train:')\n",
    "print(\"Accuracy:\", accuracy_t)\n",
    "print(\"Precision:\", precision_t)\n",
    "print(\"Recall:\", recall_t)"
   ]
  },
  {
   "cell_type": "code",
   "execution_count": 95,
   "id": "c914de8c",
   "metadata": {},
   "outputs": [
    {
     "name": "stdout",
     "output_type": "stream",
     "text": [
      "For Test:\n",
      "Accuracy: 0.8556\n",
      "Precision: 0.7067137809187279\n",
      "Recall: 0.41841004184100417\n"
     ]
    }
   ],
   "source": [
    "accuracy = accuracy_score(y_test, y_pred)\n",
    "precision = precision_score(y_test, y_pred)\n",
    "recall = recall_score(y_test, y_pred)\n",
    "\n",
    "print('For Test:')\n",
    "print(\"Accuracy:\", accuracy)\n",
    "print(\"Precision:\", precision)\n",
    "print(\"Recall:\", recall)"
   ]
  },
  {
   "cell_type": "markdown",
   "id": "27dc85ae",
   "metadata": {},
   "source": [
    "Interpretation:\n",
    "    \n",
    "    After tuning the hyper-parameters in decision tree we are able to reduce the gap between test and train and we got good accuracy scores."
   ]
  },
  {
   "cell_type": "markdown",
   "id": "62699d1b",
   "metadata": {},
   "source": [
    "ROC Score"
   ]
  },
  {
   "cell_type": "code",
   "execution_count": 96,
   "id": "f6a20e6a",
   "metadata": {},
   "outputs": [],
   "source": [
    "y_train_proba = best_model.predict_proba(X_train)[:,1]\n",
    "y_test_proba = best_model.predict_proba(X_test)[:,1]"
   ]
  },
  {
   "cell_type": "code",
   "execution_count": 97,
   "id": "a405c019",
   "metadata": {
    "scrolled": true
   },
   "outputs": [],
   "source": [
    "# Calculate AU-ROC score\n",
    "\n",
    "fpr, tpr, thresholds = roc_curve(y_train, y_train_proba )"
   ]
  },
  {
   "cell_type": "code",
   "execution_count": 98,
   "id": "dd87d82c",
   "metadata": {},
   "outputs": [
    {
     "data": {
      "image/png": "[encoded data removed]",
      "text/plain": [
       "<Figure size 640x480 with 1 Axes>"
      ]
     },
     "metadata": {},
     "output_type": "display_data"
    },
    {
     "name": "stdout",
     "output_type": "stream",
     "text": [
      "\n",
      "AU-ROC Score train: 0.7256377902053537\n"
     ]
    }
   ],
   "source": [
    "plt.plot(fpr, tpr)\n",
    "plt.plot(fpr, fpr)\n",
    "plt.xlabel('False Positive Rate')\n",
    "plt.ylabel('True Positive Rate')\n",
    "plt.show()\n",
    "\n",
    "auc_roc1 = roc_auc_score(y_train, y_pred_train)\n",
    "print(\"\\nAU-ROC Score train:\", auc_roc1)"
   ]
  },
  {
   "cell_type": "code",
   "execution_count": 99,
   "id": "efc8e4e2",
   "metadata": {
    "scrolled": true
   },
   "outputs": [
    {
     "data": {
      "image/png": "[encoded data removed]",
      "text/plain": [
       "<Figure size 640x480 with 1 Axes>"
      ]
     },
     "metadata": {},
     "output_type": "display_data"
    },
    {
     "name": "stdout",
     "output_type": "stream",
     "text": [
      "\n",
      "AU-ROC Score test: 0.6886807874882568\n"
     ]
    }
   ],
   "source": [
    "# Calculate AU-ROC score\n",
    "\n",
    "fpr, tpr, thresholds = roc_curve(y_test, y_test_proba )\n",
    "\n",
    "plt.plot(fpr, tpr)\n",
    "plt.plot(fpr, fpr)\n",
    "plt.xlabel('False Positive Rate')\n",
    "plt.ylabel('True Positive Rate')\n",
    "plt.show()\n",
    "\n",
    "auc_roc2 = roc_auc_score(y_test, y_pred)\n",
    "print(\"\\nAU-ROC Score test:\", auc_roc2)"
   ]
  },
  {
   "cell_type": "markdown",
   "id": "38270fef",
   "metadata": {},
   "source": [
    "3. KNN Model:"
   ]
  },
  {
   "cell_type": "code",
   "execution_count": 111,
   "id": "a8dacdb5",
   "metadata": {},
   "outputs": [],
   "source": [
    "from sklearn.neighbors import KNeighborsClassifier\n",
    "from sklearn.preprocessing import MinMaxScaler"
   ]
  },
  {
   "cell_type": "code",
   "execution_count": 112,
   "id": "f51fd369",
   "metadata": {},
   "outputs": [
    {
     "data": {
      "text/html": [
       "<div>\n",
       "<style scoped>\n",
       "    .dataframe tbody tr th:only-of-type {\n",
       "        vertical-align: middle;\n",
       "    }\n",
       "\n",
       "    .dataframe tbody tr th {\n",
       "        vertical-align: top;\n",
       "    }\n",
       "\n",
       "    .dataframe thead th {\n",
       "        text-align: right;\n",
       "    }\n",
       "</style>\n",
       "<table border=\"1\" class=\"dataframe\">\n",
       "  <thead>\n",
       "    <tr style=\"text-align: right;\">\n",
       "      <th></th>\n",
       "      <th>credit_score</th>\n",
       "      <th>age</th>\n",
       "      <th>tenure</th>\n",
       "      <th>balance</th>\n",
       "      <th>products_number</th>\n",
       "      <th>estimated_salary</th>\n",
       "    </tr>\n",
       "  </thead>\n",
       "  <tbody>\n",
       "    <tr>\n",
       "      <th>0</th>\n",
       "      <td>0.538</td>\n",
       "      <td>0.324324</td>\n",
       "      <td>0.2</td>\n",
       "      <td>0.000000</td>\n",
       "      <td>0.000000</td>\n",
       "      <td>0.506735</td>\n",
       "    </tr>\n",
       "    <tr>\n",
       "      <th>1</th>\n",
       "      <td>0.516</td>\n",
       "      <td>0.310811</td>\n",
       "      <td>0.1</td>\n",
       "      <td>0.334031</td>\n",
       "      <td>0.000000</td>\n",
       "      <td>0.562709</td>\n",
       "    </tr>\n",
       "    <tr>\n",
       "      <th>2</th>\n",
       "      <td>0.304</td>\n",
       "      <td>0.324324</td>\n",
       "      <td>0.8</td>\n",
       "      <td>0.636357</td>\n",
       "      <td>0.666667</td>\n",
       "      <td>0.569654</td>\n",
       "    </tr>\n",
       "    <tr>\n",
       "      <th>3</th>\n",
       "      <td>0.698</td>\n",
       "      <td>0.283784</td>\n",
       "      <td>0.1</td>\n",
       "      <td>0.000000</td>\n",
       "      <td>0.333333</td>\n",
       "      <td>0.469120</td>\n",
       "    </tr>\n",
       "    <tr>\n",
       "      <th>4</th>\n",
       "      <td>1.000</td>\n",
       "      <td>0.337838</td>\n",
       "      <td>0.2</td>\n",
       "      <td>0.500246</td>\n",
       "      <td>0.000000</td>\n",
       "      <td>0.395400</td>\n",
       "    </tr>\n",
       "    <tr>\n",
       "      <th>...</th>\n",
       "      <td>...</td>\n",
       "      <td>...</td>\n",
       "      <td>...</td>\n",
       "      <td>...</td>\n",
       "      <td>...</td>\n",
       "      <td>...</td>\n",
       "    </tr>\n",
       "    <tr>\n",
       "      <th>9995</th>\n",
       "      <td>0.842</td>\n",
       "      <td>0.283784</td>\n",
       "      <td>0.5</td>\n",
       "      <td>0.000000</td>\n",
       "      <td>0.333333</td>\n",
       "      <td>0.481341</td>\n",
       "    </tr>\n",
       "    <tr>\n",
       "      <th>9996</th>\n",
       "      <td>0.332</td>\n",
       "      <td>0.229730</td>\n",
       "      <td>1.0</td>\n",
       "      <td>0.228657</td>\n",
       "      <td>0.000000</td>\n",
       "      <td>0.508490</td>\n",
       "    </tr>\n",
       "    <tr>\n",
       "      <th>9997</th>\n",
       "      <td>0.718</td>\n",
       "      <td>0.243243</td>\n",
       "      <td>0.7</td>\n",
       "      <td>0.000000</td>\n",
       "      <td>0.000000</td>\n",
       "      <td>0.210390</td>\n",
       "    </tr>\n",
       "    <tr>\n",
       "      <th>9998</th>\n",
       "      <td>0.844</td>\n",
       "      <td>0.324324</td>\n",
       "      <td>0.3</td>\n",
       "      <td>0.299226</td>\n",
       "      <td>0.333333</td>\n",
       "      <td>0.464429</td>\n",
       "    </tr>\n",
       "    <tr>\n",
       "      <th>9999</th>\n",
       "      <td>0.884</td>\n",
       "      <td>0.135135</td>\n",
       "      <td>0.4</td>\n",
       "      <td>0.518708</td>\n",
       "      <td>0.000000</td>\n",
       "      <td>0.190914</td>\n",
       "    </tr>\n",
       "  </tbody>\n",
       "</table>\n",
       "<p>10000 rows × 6 columns</p>\n",
       "</div>"
      ],
      "text/plain": [
       "      credit_score       age  tenure   balance  products_number  \\\n",
       "0            0.538  0.324324     0.2  0.000000         0.000000   \n",
       "1            0.516  0.310811     0.1  0.334031         0.000000   \n",
       "2            0.304  0.324324     0.8  0.636357         0.666667   \n",
       "3            0.698  0.283784     0.1  0.000000         0.333333   \n",
       "4            1.000  0.337838     0.2  0.500246         0.000000   \n",
       "...            ...       ...     ...       ...              ...   \n",
       "9995         0.842  0.283784     0.5  0.000000         0.333333   \n",
       "9996         0.332  0.229730     1.0  0.228657         0.000000   \n",
       "9997         0.718  0.243243     0.7  0.000000         0.000000   \n",
       "9998         0.844  0.324324     0.3  0.299226         0.333333   \n",
       "9999         0.884  0.135135     0.4  0.518708         0.000000   \n",
       "\n",
       "      estimated_salary  \n",
       "0             0.506735  \n",
       "1             0.562709  \n",
       "2             0.569654  \n",
       "3             0.469120  \n",
       "4             0.395400  \n",
       "...                ...  \n",
       "9995          0.481341  \n",
       "9996          0.508490  \n",
       "9997          0.210390  \n",
       "9998          0.464429  \n",
       "9999          0.190914  \n",
       "\n",
       "[10000 rows x 6 columns]"
      ]
     },
     "execution_count": 112,
     "metadata": {},
     "output_type": "execute_result"
    }
   ],
   "source": [
    "feat_minmax = X1[['credit_score','age','tenure','balance','products_number','estimated_salary']]\n",
    "mmscaler = MinMaxScaler()\n",
    "\n",
    "X4 = pd.DataFrame (mmscaler.fit_transform(feat_minmax), columns = feat_minmax.columns)\n",
    "X4"
   ]
  },
  {
   "cell_type": "code",
   "execution_count": 113,
   "id": "1ca9e762",
   "metadata": {},
   "outputs": [
    {
     "data": {
      "text/html": [
       "<div>\n",
       "<style scoped>\n",
       "    .dataframe tbody tr th:only-of-type {\n",
       "        vertical-align: middle;\n",
       "    }\n",
       "\n",
       "    .dataframe tbody tr th {\n",
       "        vertical-align: top;\n",
       "    }\n",
       "\n",
       "    .dataframe thead th {\n",
       "        text-align: right;\n",
       "    }\n",
       "</style>\n",
       "<table border=\"1\" class=\"dataframe\">\n",
       "  <thead>\n",
       "    <tr style=\"text-align: right;\">\n",
       "      <th></th>\n",
       "      <th>credit_score</th>\n",
       "      <th>age</th>\n",
       "      <th>tenure</th>\n",
       "      <th>balance</th>\n",
       "      <th>products_number</th>\n",
       "      <th>estimated_salary</th>\n",
       "      <th>country_Germany</th>\n",
       "      <th>country_Spain</th>\n",
       "      <th>gender_Male</th>\n",
       "      <th>credit_card_Yes</th>\n",
       "      <th>active_member_Yes</th>\n",
       "    </tr>\n",
       "  </thead>\n",
       "  <tbody>\n",
       "    <tr>\n",
       "      <th>0</th>\n",
       "      <td>0.538</td>\n",
       "      <td>0.324324</td>\n",
       "      <td>0.2</td>\n",
       "      <td>0.000000</td>\n",
       "      <td>0.000000</td>\n",
       "      <td>0.506735</td>\n",
       "      <td>0.0</td>\n",
       "      <td>0.0</td>\n",
       "      <td>0.0</td>\n",
       "      <td>1.0</td>\n",
       "      <td>1.0</td>\n",
       "    </tr>\n",
       "    <tr>\n",
       "      <th>1</th>\n",
       "      <td>0.516</td>\n",
       "      <td>0.310811</td>\n",
       "      <td>0.1</td>\n",
       "      <td>0.334031</td>\n",
       "      <td>0.000000</td>\n",
       "      <td>0.562709</td>\n",
       "      <td>0.0</td>\n",
       "      <td>1.0</td>\n",
       "      <td>0.0</td>\n",
       "      <td>0.0</td>\n",
       "      <td>1.0</td>\n",
       "    </tr>\n",
       "    <tr>\n",
       "      <th>2</th>\n",
       "      <td>0.304</td>\n",
       "      <td>0.324324</td>\n",
       "      <td>0.8</td>\n",
       "      <td>0.636357</td>\n",
       "      <td>0.666667</td>\n",
       "      <td>0.569654</td>\n",
       "      <td>0.0</td>\n",
       "      <td>0.0</td>\n",
       "      <td>0.0</td>\n",
       "      <td>1.0</td>\n",
       "      <td>0.0</td>\n",
       "    </tr>\n",
       "    <tr>\n",
       "      <th>3</th>\n",
       "      <td>0.698</td>\n",
       "      <td>0.283784</td>\n",
       "      <td>0.1</td>\n",
       "      <td>0.000000</td>\n",
       "      <td>0.333333</td>\n",
       "      <td>0.469120</td>\n",
       "      <td>0.0</td>\n",
       "      <td>0.0</td>\n",
       "      <td>0.0</td>\n",
       "      <td>0.0</td>\n",
       "      <td>0.0</td>\n",
       "    </tr>\n",
       "    <tr>\n",
       "      <th>4</th>\n",
       "      <td>1.000</td>\n",
       "      <td>0.337838</td>\n",
       "      <td>0.2</td>\n",
       "      <td>0.500246</td>\n",
       "      <td>0.000000</td>\n",
       "      <td>0.395400</td>\n",
       "      <td>0.0</td>\n",
       "      <td>1.0</td>\n",
       "      <td>0.0</td>\n",
       "      <td>1.0</td>\n",
       "      <td>1.0</td>\n",
       "    </tr>\n",
       "  </tbody>\n",
       "</table>\n",
       "</div>"
      ],
      "text/plain": [
       "   credit_score       age  tenure   balance  products_number  \\\n",
       "0         0.538  0.324324     0.2  0.000000         0.000000   \n",
       "1         0.516  0.310811     0.1  0.334031         0.000000   \n",
       "2         0.304  0.324324     0.8  0.636357         0.666667   \n",
       "3         0.698  0.283784     0.1  0.000000         0.333333   \n",
       "4         1.000  0.337838     0.2  0.500246         0.000000   \n",
       "\n",
       "   estimated_salary  country_Germany  country_Spain  gender_Male  \\\n",
       "0          0.506735              0.0            0.0          0.0   \n",
       "1          0.562709              0.0            1.0          0.0   \n",
       "2          0.569654              0.0            0.0          0.0   \n",
       "3          0.469120              0.0            0.0          0.0   \n",
       "4          0.395400              0.0            1.0          0.0   \n",
       "\n",
       "   credit_card_Yes  active_member_Yes  \n",
       "0              1.0                1.0  \n",
       "1              0.0                1.0  \n",
       "2              1.0                0.0  \n",
       "3              0.0                0.0  \n",
       "4              1.0                1.0  "
      ]
     },
     "execution_count": 113,
     "metadata": {},
     "output_type": "execute_result"
    }
   ],
   "source": [
    "X2 = pd.concat([X4, encoded_df], axis = 1)\n",
    "X2.head()"
   ]
  },
  {
   "cell_type": "code",
   "execution_count": 114,
   "id": "03ff8f80",
   "metadata": {},
   "outputs": [],
   "source": [
    "X_train1, X_test1, y_train1, y_test1 = train_test_split(X2, y1, random_state = 10, test_size = 0.3)"
   ]
  },
  {
   "cell_type": "code",
   "execution_count": 120,
   "id": "4d22498b",
   "metadata": {},
   "outputs": [
    {
     "data": {
      "text/plain": [
       "KNeighborsClassifier()"
      ]
     },
     "execution_count": 120,
     "metadata": {},
     "output_type": "execute_result"
    }
   ],
   "source": [
    "knn = KNeighborsClassifier(n_neighbors=5)\n",
    "knn.fit(X_train1, y_train1)"
   ]
  },
  {
   "cell_type": "code",
   "execution_count": 121,
   "id": "be97bdd0",
   "metadata": {},
   "outputs": [],
   "source": [
    "y_pred = knn.predict(X_test1)\n",
    "y_pred_train = knn.predict(X_train1)"
   ]
  },
  {
   "cell_type": "code",
   "execution_count": 122,
   "id": "b2b20122",
   "metadata": {},
   "outputs": [
    {
     "name": "stdout",
     "output_type": "stream",
     "text": [
      "For Train:\n",
      "Accuracy: 0.8638571428571429\n",
      "Precision: 0.7815533980582524\n",
      "Recall: 0.4544812985179958\n"
     ]
    }
   ],
   "source": [
    "accuracy_knn = accuracy_score(y_train1, y_pred_train)\n",
    "precision_knn = precision_score(y_train1, y_pred_train)\n",
    "recall_knn = recall_score(y_train1, y_pred_train)\n",
    "\n",
    "print('For Train:')\n",
    "print(\"Accuracy:\", accuracy_knn)\n",
    "print(\"Precision:\", precision_knn)\n",
    "print(\"Recall:\", recall_knn)"
   ]
  },
  {
   "cell_type": "code",
   "execution_count": 123,
   "id": "09506ca0",
   "metadata": {},
   "outputs": [
    {
     "name": "stdout",
     "output_type": "stream",
     "text": [
      "For Test:\n",
      "Accuracy: 0.8076666666666666\n",
      "Precision: 0.5733788395904437\n",
      "Recall: 0.2709677419354839\n"
     ]
    }
   ],
   "source": [
    "accuracy_kn_tst = accuracy_score(y_test1, y_pred)\n",
    "precision_kn_tst = precision_score(y_test1, y_pred)\n",
    "recall_kn_tst = recall_score(y_test1, y_pred)\n",
    "\n",
    "print('For Test:')\n",
    "print(\"Accuracy:\", accuracy_kn_tst)\n",
    "print(\"Precision:\", precision_kn_tst)\n",
    "print(\"Recall:\", recall_kn_tst)"
   ]
  },
  {
   "cell_type": "markdown",
   "id": "fb4a6e94",
   "metadata": {},
   "source": [
    "ROC Score"
   ]
  },
  {
   "cell_type": "code",
   "execution_count": 124,
   "id": "301c536a",
   "metadata": {},
   "outputs": [],
   "source": [
    "y_train_proba = best_model.predict_proba(X_train1)[:,1]\n",
    "y_test_proba = best_model.predict_proba(X_test1)[:,1]"
   ]
  },
  {
   "cell_type": "code",
   "execution_count": 126,
   "id": "cb05bce3",
   "metadata": {},
   "outputs": [],
   "source": [
    "# Calculate AU-ROC score\n",
    "\n",
    "fpr, tpr, thresholds = roc_curve(y_train1, y_train_proba )"
   ]
  },
  {
   "cell_type": "code",
   "execution_count": 128,
   "id": "a732684c",
   "metadata": {},
   "outputs": [
    {
     "data": {
      "image/png": "[encoded data removed]",
      "text/plain": [
       "<Figure size 640x480 with 1 Axes>"
      ]
     },
     "metadata": {},
     "output_type": "display_data"
    },
    {
     "name": "stdout",
     "output_type": "stream",
     "text": [
      "\n",
      "AU-ROC Score train: 0.711120283864049\n"
     ]
    }
   ],
   "source": [
    "plt.plot(fpr, tpr)\n",
    "plt.plot(fpr, fpr)\n",
    "plt.xlabel('False Positive Rate')\n",
    "plt.ylabel('True Positive Rate')\n",
    "plt.show()\n",
    "\n",
    "auc_roc3 = roc_auc_score(y_train1, y_pred_train)\n",
    "print(\"\\nAU-ROC Score train:\", auc_roc3)"
   ]
  },
  {
   "cell_type": "code",
   "execution_count": 130,
   "id": "3ad13811",
   "metadata": {},
   "outputs": [
    {
     "data": {
      "image/png": "[encoded data removed]",
      "text/plain": [
       "<Figure size 640x480 with 1 Axes>"
      ]
     },
     "metadata": {},
     "output_type": "display_data"
    },
    {
     "name": "stdout",
     "output_type": "stream",
     "text": [
      "\n",
      "AU-ROC Score test: 0.6092233667660613\n"
     ]
    }
   ],
   "source": [
    "# Calculate AU-ROC score\n",
    "\n",
    "fpr, tpr, thresholds = roc_curve(y_test1, y_test_proba )\n",
    "\n",
    "plt.plot(fpr, tpr)\n",
    "plt.plot(fpr, fpr)\n",
    "plt.xlabel('False Positive Rate')\n",
    "plt.ylabel('True Positive Rate')\n",
    "plt.show()\n",
    "\n",
    "auc_roc4 = roc_auc_score(y_test1, y_pred)\n",
    "print(\"\\nAU-ROC Score test:\", auc_roc4)"
   ]
  },
  {
   "cell_type": "markdown",
   "id": "9d7850cb",
   "metadata": {},
   "source": [
    "Interpretation:\n",
    "    \n",
    "    As the graph of ROC Curve is downwards from the diagonal line separating the randomness of the model, we can infer that the KNN Model is not a good choice."
   ]
  },
  {
   "cell_type": "markdown",
   "id": "72b864ab",
   "metadata": {},
   "source": [
    "4. Random Forest Model:"
   ]
  },
  {
   "cell_type": "code",
   "execution_count": 90,
   "id": "f04a9e03",
   "metadata": {},
   "outputs": [],
   "source": [
    "from sklearn.ensemble import RandomForestClassifier"
   ]
  },
  {
   "cell_type": "code",
   "execution_count": 91,
   "id": "79643302",
   "metadata": {},
   "outputs": [],
   "source": [
    "random_forest = RandomForestClassifier(random_state=200)\n",
    "random_forest.fit(X_train, y_train)\n",
    "\n",
    "y_pred_rf = random_forest.predict(X_test)"
   ]
  },
  {
   "cell_type": "code",
   "execution_count": 92,
   "id": "21262315",
   "metadata": {},
   "outputs": [
    {
     "name": "stdout",
     "output_type": "stream",
     "text": [
      "Accuracy: 0.87\n",
      "Precision: 0.7558528428093646\n",
      "Recall: 0.47280334728033474\n"
     ]
    }
   ],
   "source": [
    "accuracy_rf = accuracy_score(y_test, y_pred_rf)\n",
    "precision_rf = precision_score(y_test, y_pred_rf)\n",
    "recall_rf = recall_score(y_test, y_pred_rf)\n",
    "\n",
    "print(\"Accuracy:\", accuracy_rf)\n",
    "print(\"Precision:\", precision_rf)\n",
    "print(\"Recall:\", recall_rf)"
   ]
  },
  {
   "cell_type": "code",
   "execution_count": 93,
   "id": "6d620874",
   "metadata": {},
   "outputs": [
    {
     "name": "stdout",
     "output_type": "stream",
     "text": [
      "Random Forest Model\n",
      "              precision    recall  f1-score   support\n",
      "\n",
      "           0       0.89      0.96      0.92      2022\n",
      "           1       0.76      0.47      0.58       478\n",
      "\n",
      "    accuracy                           0.87      2500\n",
      "   macro avg       0.82      0.72      0.75      2500\n",
      "weighted avg       0.86      0.87      0.86      2500\n",
      "\n"
     ]
    }
   ],
   "source": [
    "print(\"Random Forest Model\")\n",
    "print(classification_report(y_test, y_pred_rf))"
   ]
  },
  {
   "cell_type": "markdown",
   "id": "32dd718c",
   "metadata": {},
   "source": [
    "**REPORT:**\n",
    "    \n",
    "    From above we can see that Decision Tree is giving us the best results with AUROC score test."
   ]
  },
  {
   "cell_type": "code",
   "execution_count": null,
   "id": "ae6a7e08",
   "metadata": {},
   "outputs": [],
   "source": []
  }
 ],
 "metadata": {
  "kernelspec": {
   "display_name": "Python 3 (ipykernel)",
   "language": "python",
   "name": "python3"
  },
  "language_info": {
   "codemirror_mode": {
    "name": "ipython",
    "version": 3
   },
   "file_extension": ".py",
   "mimetype": "text/x-python",
   "name": "python",
   "nbconvert_exporter": "python",
   "pygments_lexer": "ipython3",
   "version": "3.9.13"
  }
 },
 "nbformat": 4,
 "nbformat_minor": 5
}
